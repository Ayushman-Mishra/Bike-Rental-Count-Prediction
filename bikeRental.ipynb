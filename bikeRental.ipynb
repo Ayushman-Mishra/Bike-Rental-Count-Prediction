{
 "cells": [
  {
   "cell_type": "code",
   "execution_count": 439,
   "metadata": {},
   "outputs": [],
   "source": [
    "import os\n",
    "import pandas as pd\n",
    "import numpy as np\n",
    "import missingno as mn\n",
    "import seaborn as sns\n",
    "from fancyimpute import KNN  \n",
    "from scipy.stats import chi2_contingency\n",
    "from sklearn.model_selection import train_test_split\n",
    "from sklearn.tree import DecisionTreeRegressor\n",
    "from sklearn.model_selection import GridSearchCV\n",
    "from sklearn.linear_model import LinearRegression\n",
    "from sklearn.ensemble import RandomForestRegressor\n",
    "from sklearn.ensemble import GradientBoostingRegressor \n",
    "from sklearn.metrics import roc_auc_score, r2_score, mean_absolute_error,mean_squared_error\n",
    "import matplotlib.pyplot as plt\n",
    "%matplotlib inline"
   ]
  },
  {
   "cell_type": "code",
   "execution_count": 273,
   "metadata": {},
   "outputs": [
    {
     "name": "stdout",
     "output_type": "stream",
     "text": [
      "C:\\Users\\M1053735\\Pictures\\bikeRental\n"
     ]
    }
   ],
   "source": [
    "#change working directory\n",
    "os.chdir(r\"C:\\Users\\M1053735\\Pictures\\bikeRental\")\n",
    "print(os.getcwd())"
   ]
  },
  {
   "cell_type": "code",
   "execution_count": 274,
   "metadata": {},
   "outputs": [
    {
     "data": {
      "text/html": [
       "<div>\n",
       "<style scoped>\n",
       "    .dataframe tbody tr th:only-of-type {\n",
       "        vertical-align: middle;\n",
       "    }\n",
       "\n",
       "    .dataframe tbody tr th {\n",
       "        vertical-align: top;\n",
       "    }\n",
       "\n",
       "    .dataframe thead th {\n",
       "        text-align: right;\n",
       "    }\n",
       "</style>\n",
       "<table border=\"1\" class=\"dataframe\">\n",
       "  <thead>\n",
       "    <tr style=\"text-align: right;\">\n",
       "      <th></th>\n",
       "      <th>season</th>\n",
       "      <th>yr</th>\n",
       "      <th>mnth</th>\n",
       "      <th>holiday</th>\n",
       "      <th>weekday</th>\n",
       "      <th>workingday</th>\n",
       "      <th>weathersit</th>\n",
       "      <th>temp</th>\n",
       "      <th>atemp</th>\n",
       "      <th>hum</th>\n",
       "      <th>windspeed</th>\n",
       "      <th>casual</th>\n",
       "      <th>registered</th>\n",
       "      <th>cnt</th>\n",
       "    </tr>\n",
       "    <tr>\n",
       "      <th>dteday</th>\n",
       "      <th></th>\n",
       "      <th></th>\n",
       "      <th></th>\n",
       "      <th></th>\n",
       "      <th></th>\n",
       "      <th></th>\n",
       "      <th></th>\n",
       "      <th></th>\n",
       "      <th></th>\n",
       "      <th></th>\n",
       "      <th></th>\n",
       "      <th></th>\n",
       "      <th></th>\n",
       "      <th></th>\n",
       "    </tr>\n",
       "  </thead>\n",
       "  <tbody>\n",
       "    <tr>\n",
       "      <th>2011-01-01</th>\n",
       "      <td>1</td>\n",
       "      <td>0</td>\n",
       "      <td>1</td>\n",
       "      <td>0</td>\n",
       "      <td>6</td>\n",
       "      <td>0</td>\n",
       "      <td>2</td>\n",
       "      <td>0.344167</td>\n",
       "      <td>0.363625</td>\n",
       "      <td>0.805833</td>\n",
       "      <td>0.160446</td>\n",
       "      <td>331</td>\n",
       "      <td>654</td>\n",
       "      <td>985</td>\n",
       "    </tr>\n",
       "    <tr>\n",
       "      <th>2011-01-02</th>\n",
       "      <td>1</td>\n",
       "      <td>0</td>\n",
       "      <td>1</td>\n",
       "      <td>0</td>\n",
       "      <td>0</td>\n",
       "      <td>0</td>\n",
       "      <td>2</td>\n",
       "      <td>0.363478</td>\n",
       "      <td>0.353739</td>\n",
       "      <td>0.696087</td>\n",
       "      <td>0.248539</td>\n",
       "      <td>131</td>\n",
       "      <td>670</td>\n",
       "      <td>801</td>\n",
       "    </tr>\n",
       "    <tr>\n",
       "      <th>2011-01-03</th>\n",
       "      <td>1</td>\n",
       "      <td>0</td>\n",
       "      <td>1</td>\n",
       "      <td>0</td>\n",
       "      <td>1</td>\n",
       "      <td>1</td>\n",
       "      <td>1</td>\n",
       "      <td>0.196364</td>\n",
       "      <td>0.189405</td>\n",
       "      <td>0.437273</td>\n",
       "      <td>0.248309</td>\n",
       "      <td>120</td>\n",
       "      <td>1229</td>\n",
       "      <td>1349</td>\n",
       "    </tr>\n",
       "    <tr>\n",
       "      <th>2011-01-04</th>\n",
       "      <td>1</td>\n",
       "      <td>0</td>\n",
       "      <td>1</td>\n",
       "      <td>0</td>\n",
       "      <td>2</td>\n",
       "      <td>1</td>\n",
       "      <td>1</td>\n",
       "      <td>0.200000</td>\n",
       "      <td>0.212122</td>\n",
       "      <td>0.590435</td>\n",
       "      <td>0.160296</td>\n",
       "      <td>108</td>\n",
       "      <td>1454</td>\n",
       "      <td>1562</td>\n",
       "    </tr>\n",
       "    <tr>\n",
       "      <th>2011-01-05</th>\n",
       "      <td>1</td>\n",
       "      <td>0</td>\n",
       "      <td>1</td>\n",
       "      <td>0</td>\n",
       "      <td>3</td>\n",
       "      <td>1</td>\n",
       "      <td>1</td>\n",
       "      <td>0.226957</td>\n",
       "      <td>0.229270</td>\n",
       "      <td>0.436957</td>\n",
       "      <td>0.186900</td>\n",
       "      <td>82</td>\n",
       "      <td>1518</td>\n",
       "      <td>1600</td>\n",
       "    </tr>\n",
       "    <tr>\n",
       "      <th>2011-01-06</th>\n",
       "      <td>1</td>\n",
       "      <td>0</td>\n",
       "      <td>1</td>\n",
       "      <td>0</td>\n",
       "      <td>4</td>\n",
       "      <td>1</td>\n",
       "      <td>1</td>\n",
       "      <td>0.204348</td>\n",
       "      <td>0.233209</td>\n",
       "      <td>0.518261</td>\n",
       "      <td>0.089565</td>\n",
       "      <td>88</td>\n",
       "      <td>1518</td>\n",
       "      <td>1606</td>\n",
       "    </tr>\n",
       "    <tr>\n",
       "      <th>2011-01-07</th>\n",
       "      <td>1</td>\n",
       "      <td>0</td>\n",
       "      <td>1</td>\n",
       "      <td>0</td>\n",
       "      <td>5</td>\n",
       "      <td>1</td>\n",
       "      <td>2</td>\n",
       "      <td>0.196522</td>\n",
       "      <td>0.208839</td>\n",
       "      <td>0.498696</td>\n",
       "      <td>0.168726</td>\n",
       "      <td>148</td>\n",
       "      <td>1362</td>\n",
       "      <td>1510</td>\n",
       "    </tr>\n",
       "    <tr>\n",
       "      <th>2011-01-08</th>\n",
       "      <td>1</td>\n",
       "      <td>0</td>\n",
       "      <td>1</td>\n",
       "      <td>0</td>\n",
       "      <td>6</td>\n",
       "      <td>0</td>\n",
       "      <td>2</td>\n",
       "      <td>0.165000</td>\n",
       "      <td>0.162254</td>\n",
       "      <td>0.535833</td>\n",
       "      <td>0.266804</td>\n",
       "      <td>68</td>\n",
       "      <td>891</td>\n",
       "      <td>959</td>\n",
       "    </tr>\n",
       "    <tr>\n",
       "      <th>2011-01-09</th>\n",
       "      <td>1</td>\n",
       "      <td>0</td>\n",
       "      <td>1</td>\n",
       "      <td>0</td>\n",
       "      <td>0</td>\n",
       "      <td>0</td>\n",
       "      <td>1</td>\n",
       "      <td>0.138333</td>\n",
       "      <td>0.116175</td>\n",
       "      <td>0.434167</td>\n",
       "      <td>0.361950</td>\n",
       "      <td>54</td>\n",
       "      <td>768</td>\n",
       "      <td>822</td>\n",
       "    </tr>\n",
       "    <tr>\n",
       "      <th>2011-01-10</th>\n",
       "      <td>1</td>\n",
       "      <td>0</td>\n",
       "      <td>1</td>\n",
       "      <td>0</td>\n",
       "      <td>1</td>\n",
       "      <td>1</td>\n",
       "      <td>1</td>\n",
       "      <td>0.150833</td>\n",
       "      <td>0.150888</td>\n",
       "      <td>0.482917</td>\n",
       "      <td>0.223267</td>\n",
       "      <td>41</td>\n",
       "      <td>1280</td>\n",
       "      <td>1321</td>\n",
       "    </tr>\n",
       "  </tbody>\n",
       "</table>\n",
       "</div>"
      ],
      "text/plain": [
       "            season  yr  mnth  holiday  weekday  workingday  weathersit  \\\n",
       "dteday                                                                   \n",
       "2011-01-01       1   0     1        0        6           0           2   \n",
       "2011-01-02       1   0     1        0        0           0           2   \n",
       "2011-01-03       1   0     1        0        1           1           1   \n",
       "2011-01-04       1   0     1        0        2           1           1   \n",
       "2011-01-05       1   0     1        0        3           1           1   \n",
       "2011-01-06       1   0     1        0        4           1           1   \n",
       "2011-01-07       1   0     1        0        5           1           2   \n",
       "2011-01-08       1   0     1        0        6           0           2   \n",
       "2011-01-09       1   0     1        0        0           0           1   \n",
       "2011-01-10       1   0     1        0        1           1           1   \n",
       "\n",
       "                temp     atemp       hum  windspeed  casual  registered   cnt  \n",
       "dteday                                                                         \n",
       "2011-01-01  0.344167  0.363625  0.805833   0.160446     331         654   985  \n",
       "2011-01-02  0.363478  0.353739  0.696087   0.248539     131         670   801  \n",
       "2011-01-03  0.196364  0.189405  0.437273   0.248309     120        1229  1349  \n",
       "2011-01-04  0.200000  0.212122  0.590435   0.160296     108        1454  1562  \n",
       "2011-01-05  0.226957  0.229270  0.436957   0.186900      82        1518  1600  \n",
       "2011-01-06  0.204348  0.233209  0.518261   0.089565      88        1518  1606  \n",
       "2011-01-07  0.196522  0.208839  0.498696   0.168726     148        1362  1510  \n",
       "2011-01-08  0.165000  0.162254  0.535833   0.266804      68         891   959  \n",
       "2011-01-09  0.138333  0.116175  0.434167   0.361950      54         768   822  \n",
       "2011-01-10  0.150833  0.150888  0.482917   0.223267      41        1280  1321  "
      ]
     },
     "execution_count": 274,
     "metadata": {},
     "output_type": "execute_result"
    }
   ],
   "source": [
    "#Reading Data\n",
    "#Making date column as an index column\n",
    "df_data = pd.read_csv(\"day.csv\",index_col='dteday',parse_dates=True,infer_datetime_format=True)\n",
    "#dropping 'instant' column because it is statisticaly insignificant\n",
    "df_data = df_data.drop(columns='instant')\n",
    "df_data.head(10)"
   ]
  },
  {
   "cell_type": "markdown",
   "metadata": {},
   "source": [
    "# Understanding The Data"
   ]
  },
  {
   "cell_type": "code",
   "execution_count": 275,
   "metadata": {
    "scrolled": true
   },
   "outputs": [
    {
     "data": {
      "text/html": [
       "<div>\n",
       "<style scoped>\n",
       "    .dataframe tbody tr th:only-of-type {\n",
       "        vertical-align: middle;\n",
       "    }\n",
       "\n",
       "    .dataframe tbody tr th {\n",
       "        vertical-align: top;\n",
       "    }\n",
       "\n",
       "    .dataframe thead th {\n",
       "        text-align: right;\n",
       "    }\n",
       "</style>\n",
       "<table border=\"1\" class=\"dataframe\">\n",
       "  <thead>\n",
       "    <tr style=\"text-align: right;\">\n",
       "      <th></th>\n",
       "      <th>season</th>\n",
       "      <th>yr</th>\n",
       "      <th>mnth</th>\n",
       "      <th>holiday</th>\n",
       "      <th>weekday</th>\n",
       "      <th>workingday</th>\n",
       "      <th>weathersit</th>\n",
       "      <th>temp</th>\n",
       "      <th>atemp</th>\n",
       "      <th>hum</th>\n",
       "      <th>windspeed</th>\n",
       "      <th>casual</th>\n",
       "      <th>registered</th>\n",
       "      <th>cnt</th>\n",
       "    </tr>\n",
       "  </thead>\n",
       "  <tbody>\n",
       "    <tr>\n",
       "      <th>count</th>\n",
       "      <td>731.000000</td>\n",
       "      <td>731.000000</td>\n",
       "      <td>731.000000</td>\n",
       "      <td>731.000000</td>\n",
       "      <td>731.000000</td>\n",
       "      <td>731.000000</td>\n",
       "      <td>731.000000</td>\n",
       "      <td>731.000000</td>\n",
       "      <td>731.000000</td>\n",
       "      <td>731.000000</td>\n",
       "      <td>731.000000</td>\n",
       "      <td>731.000000</td>\n",
       "      <td>731.000000</td>\n",
       "      <td>731.000000</td>\n",
       "    </tr>\n",
       "    <tr>\n",
       "      <th>mean</th>\n",
       "      <td>2.496580</td>\n",
       "      <td>0.500684</td>\n",
       "      <td>6.519836</td>\n",
       "      <td>0.028728</td>\n",
       "      <td>2.997264</td>\n",
       "      <td>0.683995</td>\n",
       "      <td>1.395349</td>\n",
       "      <td>0.495385</td>\n",
       "      <td>0.474354</td>\n",
       "      <td>0.627894</td>\n",
       "      <td>0.190486</td>\n",
       "      <td>848.176471</td>\n",
       "      <td>3656.172367</td>\n",
       "      <td>4504.348837</td>\n",
       "    </tr>\n",
       "    <tr>\n",
       "      <th>std</th>\n",
       "      <td>1.110807</td>\n",
       "      <td>0.500342</td>\n",
       "      <td>3.451913</td>\n",
       "      <td>0.167155</td>\n",
       "      <td>2.004787</td>\n",
       "      <td>0.465233</td>\n",
       "      <td>0.544894</td>\n",
       "      <td>0.183051</td>\n",
       "      <td>0.162961</td>\n",
       "      <td>0.142429</td>\n",
       "      <td>0.077498</td>\n",
       "      <td>686.622488</td>\n",
       "      <td>1560.256377</td>\n",
       "      <td>1937.211452</td>\n",
       "    </tr>\n",
       "    <tr>\n",
       "      <th>min</th>\n",
       "      <td>1.000000</td>\n",
       "      <td>0.000000</td>\n",
       "      <td>1.000000</td>\n",
       "      <td>0.000000</td>\n",
       "      <td>0.000000</td>\n",
       "      <td>0.000000</td>\n",
       "      <td>1.000000</td>\n",
       "      <td>0.059130</td>\n",
       "      <td>0.079070</td>\n",
       "      <td>0.000000</td>\n",
       "      <td>0.022392</td>\n",
       "      <td>2.000000</td>\n",
       "      <td>20.000000</td>\n",
       "      <td>22.000000</td>\n",
       "    </tr>\n",
       "    <tr>\n",
       "      <th>25%</th>\n",
       "      <td>2.000000</td>\n",
       "      <td>0.000000</td>\n",
       "      <td>4.000000</td>\n",
       "      <td>0.000000</td>\n",
       "      <td>1.000000</td>\n",
       "      <td>0.000000</td>\n",
       "      <td>1.000000</td>\n",
       "      <td>0.337083</td>\n",
       "      <td>0.337842</td>\n",
       "      <td>0.520000</td>\n",
       "      <td>0.134950</td>\n",
       "      <td>315.500000</td>\n",
       "      <td>2497.000000</td>\n",
       "      <td>3152.000000</td>\n",
       "    </tr>\n",
       "    <tr>\n",
       "      <th>50%</th>\n",
       "      <td>3.000000</td>\n",
       "      <td>1.000000</td>\n",
       "      <td>7.000000</td>\n",
       "      <td>0.000000</td>\n",
       "      <td>3.000000</td>\n",
       "      <td>1.000000</td>\n",
       "      <td>1.000000</td>\n",
       "      <td>0.498333</td>\n",
       "      <td>0.486733</td>\n",
       "      <td>0.626667</td>\n",
       "      <td>0.180975</td>\n",
       "      <td>713.000000</td>\n",
       "      <td>3662.000000</td>\n",
       "      <td>4548.000000</td>\n",
       "    </tr>\n",
       "    <tr>\n",
       "      <th>75%</th>\n",
       "      <td>3.000000</td>\n",
       "      <td>1.000000</td>\n",
       "      <td>10.000000</td>\n",
       "      <td>0.000000</td>\n",
       "      <td>5.000000</td>\n",
       "      <td>1.000000</td>\n",
       "      <td>2.000000</td>\n",
       "      <td>0.655417</td>\n",
       "      <td>0.608602</td>\n",
       "      <td>0.730209</td>\n",
       "      <td>0.233214</td>\n",
       "      <td>1096.000000</td>\n",
       "      <td>4776.500000</td>\n",
       "      <td>5956.000000</td>\n",
       "    </tr>\n",
       "    <tr>\n",
       "      <th>max</th>\n",
       "      <td>4.000000</td>\n",
       "      <td>1.000000</td>\n",
       "      <td>12.000000</td>\n",
       "      <td>1.000000</td>\n",
       "      <td>6.000000</td>\n",
       "      <td>1.000000</td>\n",
       "      <td>3.000000</td>\n",
       "      <td>0.861667</td>\n",
       "      <td>0.840896</td>\n",
       "      <td>0.972500</td>\n",
       "      <td>0.507463</td>\n",
       "      <td>3410.000000</td>\n",
       "      <td>6946.000000</td>\n",
       "      <td>8714.000000</td>\n",
       "    </tr>\n",
       "  </tbody>\n",
       "</table>\n",
       "</div>"
      ],
      "text/plain": [
       "           season          yr        mnth     holiday     weekday  workingday  \\\n",
       "count  731.000000  731.000000  731.000000  731.000000  731.000000  731.000000   \n",
       "mean     2.496580    0.500684    6.519836    0.028728    2.997264    0.683995   \n",
       "std      1.110807    0.500342    3.451913    0.167155    2.004787    0.465233   \n",
       "min      1.000000    0.000000    1.000000    0.000000    0.000000    0.000000   \n",
       "25%      2.000000    0.000000    4.000000    0.000000    1.000000    0.000000   \n",
       "50%      3.000000    1.000000    7.000000    0.000000    3.000000    1.000000   \n",
       "75%      3.000000    1.000000   10.000000    0.000000    5.000000    1.000000   \n",
       "max      4.000000    1.000000   12.000000    1.000000    6.000000    1.000000   \n",
       "\n",
       "       weathersit        temp       atemp         hum   windspeed  \\\n",
       "count  731.000000  731.000000  731.000000  731.000000  731.000000   \n",
       "mean     1.395349    0.495385    0.474354    0.627894    0.190486   \n",
       "std      0.544894    0.183051    0.162961    0.142429    0.077498   \n",
       "min      1.000000    0.059130    0.079070    0.000000    0.022392   \n",
       "25%      1.000000    0.337083    0.337842    0.520000    0.134950   \n",
       "50%      1.000000    0.498333    0.486733    0.626667    0.180975   \n",
       "75%      2.000000    0.655417    0.608602    0.730209    0.233214   \n",
       "max      3.000000    0.861667    0.840896    0.972500    0.507463   \n",
       "\n",
       "            casual   registered          cnt  \n",
       "count   731.000000   731.000000   731.000000  \n",
       "mean    848.176471  3656.172367  4504.348837  \n",
       "std     686.622488  1560.256377  1937.211452  \n",
       "min       2.000000    20.000000    22.000000  \n",
       "25%     315.500000  2497.000000  3152.000000  \n",
       "50%     713.000000  3662.000000  4548.000000  \n",
       "75%    1096.000000  4776.500000  5956.000000  \n",
       "max    3410.000000  6946.000000  8714.000000  "
      ]
     },
     "execution_count": 275,
     "metadata": {},
     "output_type": "execute_result"
    }
   ],
   "source": [
    "df_data.describe()"
   ]
  },
  {
   "cell_type": "markdown",
   "metadata": {},
   "source": [
    "instant: Record index\n",
    "\n",
    "dteday: Date\n",
    "\n",
    "season: Season (1:springer, 2:summer, 3:fall, 4:winter)\n",
    "\n",
    "yr: Year (0: 2011, 1:2012)\n",
    "\n",
    "mnth: Month (1 to 12)\n",
    "\n",
    "hr: Hour (0 to 23)\n",
    "\n",
    "holiday: weather day is holiday or not (extracted fromHoliday Schedule)\n",
    "\n",
    "weekday: Day of the week\n",
    "\n",
    "workingday: If day is neither weekend nor holiday is 1, otherwise is 0.\n",
    "\n",
    "weathersit: (extracted fromFreemeteo)\n",
    "\n",
    "1: Clear, Few clouds, Partly cloudy, Partly cloudy\n",
    "\n",
    "2: Mist + Cloudy, Mist + Broken clouds, Mist + Few clouds, Mist\n",
    "\n",
    "3: Light Snow, Light Rain + Thunderstorm + Scattered clouds, Light Rain + Scattered\n",
    "    clouds\n",
    "\n",
    "4: Heavy Rain + Ice Pallets + Thunderstorm + Mist, Snow + Fog\n",
    "\n",
    "\n",
    "temp: Normalized temperature in Celsius.\n",
    "The values are derived via (t-t_min)/(t_max-t_min), t_min=-8, t_max=+39 (only in hourly scale)\n",
    "\n",
    "atemp: Normalized feeling temperature in Celsius. \n",
    "The values are derived via (t-t_min)/(t_maxt_min), t_min=-16, t_max=+50 (only in hourly scale)\n",
    "\n",
    "hum: Normalized humidity. The values are divided to 100 (max)\n",
    "\n",
    "windspeed: Normalized wind speed. The values are divided to 67 (max)\n",
    "\n",
    "casual: count of casual users\n",
    "\n",
    "registered: count of registered users\n",
    "\n",
    "cnt: count of total rental bikes including both casual and registered"
   ]
  },
  {
   "cell_type": "code",
   "execution_count": 276,
   "metadata": {},
   "outputs": [
    {
     "data": {
      "text/plain": [
       "(731, 14)"
      ]
     },
     "execution_count": 276,
     "metadata": {},
     "output_type": "execute_result"
    }
   ],
   "source": [
    "df_data.shape"
   ]
  },
  {
   "cell_type": "code",
   "execution_count": 277,
   "metadata": {},
   "outputs": [
    {
     "name": "stdout",
     "output_type": "stream",
     "text": [
      "<class 'pandas.core.frame.DataFrame'>\n",
      "DatetimeIndex: 731 entries, 2011-01-01 to 2012-12-31\n",
      "Data columns (total 14 columns):\n",
      "season        731 non-null int64\n",
      "yr            731 non-null int64\n",
      "mnth          731 non-null int64\n",
      "holiday       731 non-null int64\n",
      "weekday       731 non-null int64\n",
      "workingday    731 non-null int64\n",
      "weathersit    731 non-null int64\n",
      "temp          731 non-null float64\n",
      "atemp         731 non-null float64\n",
      "hum           731 non-null float64\n",
      "windspeed     731 non-null float64\n",
      "casual        731 non-null int64\n",
      "registered    731 non-null int64\n",
      "cnt           731 non-null int64\n",
      "dtypes: float64(4), int64(10)\n",
      "memory usage: 85.7 KB\n"
     ]
    }
   ],
   "source": [
    "df_data.info()"
   ]
  },
  {
   "cell_type": "code",
   "execution_count": 278,
   "metadata": {},
   "outputs": [
    {
     "name": "stdout",
     "output_type": "stream",
     "text": [
      "<class 'pandas.core.frame.DataFrame'>\n",
      "DatetimeIndex: 731 entries, 2011-01-01 to 2012-12-31\n",
      "Data columns (total 14 columns):\n",
      "season        731 non-null category\n",
      "yr            731 non-null category\n",
      "mnth          731 non-null category\n",
      "holiday       731 non-null category\n",
      "weekday       731 non-null category\n",
      "workingday    731 non-null category\n",
      "weathersit    731 non-null category\n",
      "temp          731 non-null float64\n",
      "atemp         731 non-null float64\n",
      "hum           731 non-null float64\n",
      "windspeed     731 non-null float64\n",
      "casual        731 non-null int64\n",
      "registered    731 non-null int64\n",
      "cnt           731 non-null int64\n",
      "dtypes: category(7), float64(4), int64(3)\n",
      "memory usage: 52.0 KB\n"
     ]
    }
   ],
   "source": [
    "#Converting to categorical variables\n",
    "categorical_variables = ['season','yr','mnth','holiday','weekday','workingday','weathersit']\n",
    "\n",
    "df_data[categorical_variables] = df_data[categorical_variables].apply(lambda x: x.astype('category'))\n",
    "\n",
    "df_data.info()"
   ]
  },
  {
   "cell_type": "markdown",
   "metadata": {},
   "source": [
    "# Missing Values Analysis"
   ]
  },
  {
   "cell_type": "code",
   "execution_count": 279,
   "metadata": {},
   "outputs": [
    {
     "data": {
      "text/plain": [
       "season        0\n",
       "yr            0\n",
       "mnth          0\n",
       "holiday       0\n",
       "weekday       0\n",
       "workingday    0\n",
       "weathersit    0\n",
       "temp          0\n",
       "atemp         0\n",
       "hum           0\n",
       "windspeed     0\n",
       "casual        0\n",
       "registered    0\n",
       "cnt           0\n",
       "dtype: int64"
      ]
     },
     "execution_count": 279,
     "metadata": {},
     "output_type": "execute_result"
    }
   ],
   "source": [
    "# check for missing values\n",
    "df_data.isnull().sum()"
   ]
  },
  {
   "cell_type": "code",
   "execution_count": 280,
   "metadata": {},
   "outputs": [
    {
     "data": {
      "text/plain": [
       "<matplotlib.axes._subplots.AxesSubplot at 0x23eb9c1cfd0>"
      ]
     },
     "execution_count": 280,
     "metadata": {},
     "output_type": "execute_result"
    },
    {
     "data": {
      "image/png": "[encoded data removed]",
      "text/plain": [
       "<Figure size 1800x720 with 2 Axes>"
      ]
     },
     "metadata": {
      "needs_background": "light"
     },
     "output_type": "display_data"
    }
   ],
   "source": [
    "mn.matrix(df_data)"
   ]
  },
  {
   "cell_type": "markdown",
   "metadata": {},
   "source": [
    "#### No Missing Values Found"
   ]
  },
  {
   "cell_type": "code",
   "execution_count": 281,
   "metadata": {},
   "outputs": [
    {
     "data": {
      "text/plain": [
       "(731, 12)"
      ]
     },
     "execution_count": 281,
     "metadata": {},
     "output_type": "execute_result"
    }
   ],
   "source": [
    "#Dropping casual and registered column because they are not the target variable and the sum of both is the target variable i.e. cnt\n",
    "df_data = df_data.drop(columns=['casual', 'registered'])\n",
    "df_data.shape"
   ]
  },
  {
   "cell_type": "markdown",
   "metadata": {},
   "source": [
    "# Visualization"
   ]
  },
  {
   "cell_type": "code",
   "execution_count": 282,
   "metadata": {},
   "outputs": [
    {
     "data": {
      "text/plain": [
       "<matplotlib.axes._subplots.AxesSubplot at 0x23ebb53ccc0>"
      ]
     },
     "execution_count": 282,
     "metadata": {},
     "output_type": "execute_result"
    },
    {
     "data": {
      "image/png": "[encoded data removed]",
      "text/plain": [
       "<Figure size 432x288 with 1 Axes>"
      ]
     },
     "metadata": {
      "needs_background": "light"
     },
     "output_type": "display_data"
    }
   ],
   "source": [
    "continuous_variables = ['temp','atemp','hum','windspeed','cnt']\n",
    "\n",
    "#check the normal distribution of continuous variable\n",
    "sns.distplot(df_data['temp'])"
   ]
  },
  {
   "cell_type": "code",
   "execution_count": 283,
   "metadata": {},
   "outputs": [
    {
     "data": {
      "text/plain": [
       "<matplotlib.axes._subplots.AxesSubplot at 0x23eb7a0f470>"
      ]
     },
     "execution_count": 283,
     "metadata": {},
     "output_type": "execute_result"
    },
    {
     "data": {
      "image/png": "[encoded data removed]",
      "text/plain": [
       "<Figure size 432x288 with 1 Axes>"
      ]
     },
     "metadata": {
      "needs_background": "light"
     },
     "output_type": "display_data"
    }
   ],
   "source": [
    "sns.distplot(df_data['atemp'])"
   ]
  },
  {
   "cell_type": "code",
   "execution_count": 284,
   "metadata": {},
   "outputs": [
    {
     "data": {
      "text/plain": [
       "<matplotlib.axes._subplots.AxesSubplot at 0x23ebb4ec7f0>"
      ]
     },
     "execution_count": 284,
     "metadata": {},
     "output_type": "execute_result"
    },
    {
     "data": {
      "image/png": "[encoded data removed]",
      "text/plain": [
       "<Figure size 432x288 with 1 Axes>"
      ]
     },
     "metadata": {
      "needs_background": "light"
     },
     "output_type": "display_data"
    }
   ],
   "source": [
    "sns.distplot(df_data['hum'])"
   ]
  },
  {
   "cell_type": "code",
   "execution_count": 285,
   "metadata": {},
   "outputs": [
    {
     "data": {
      "text/plain": [
       "<matplotlib.axes._subplots.AxesSubplot at 0x23eb9b18e80>"
      ]
     },
     "execution_count": 285,
     "metadata": {},
     "output_type": "execute_result"
    },
    {
     "data": {
      "image/png": "[encoded data removed]",
      "text/plain": [
       "<Figure size 432x288 with 1 Axes>"
      ]
     },
     "metadata": {
      "needs_background": "light"
     },
     "output_type": "display_data"
    }
   ],
   "source": [
    "sns.distplot(df_data['windspeed'])"
   ]
  },
  {
   "cell_type": "code",
   "execution_count": 286,
   "metadata": {},
   "outputs": [
    {
     "data": {
      "text/plain": [
       "<matplotlib.axes._subplots.AxesSubplot at 0x23ebc04f080>"
      ]
     },
     "execution_count": 286,
     "metadata": {},
     "output_type": "execute_result"
    },
    {
     "data": {
      "image/png": "[encoded data removed]",
      "text/plain": [
       "<Figure size 432x288 with 1 Axes>"
      ]
     },
     "metadata": {
      "needs_background": "light"
     },
     "output_type": "display_data"
    }
   ],
   "source": [
    "sns.distplot(df_data['cnt'])"
   ]
  },
  {
   "cell_type": "code",
   "execution_count": 287,
   "metadata": {},
   "outputs": [
    {
     "name": "stdout",
     "output_type": "stream",
     "text": [
      "Skewness of temp :  -0.054520964760408255 \n",
      "\n",
      "Skewness of atemp :  -0.13108804205446004 \n",
      "\n",
      "Skewness of hum :  -0.0697834339909521 \n",
      "\n",
      "Skewness of windspeed :  0.6773454211095377 \n",
      "\n",
      "Skewness of cnt :  -0.04735278011900183 \n",
      "\n"
     ]
    }
   ],
   "source": [
    "for var in continuous_variables:\n",
    "    print(\"Skewness of\", var , \": \",df_data[var].skew(),\"\\n\")\n",
    "    \n"
   ]
  },
  {
   "cell_type": "markdown",
   "metadata": {},
   "source": [
    "### The rule of thumb seems to be:\n",
    "If the skewness is between -0.5 and 0.5, the data are fairly symmetrical.\n",
    "so we can say that our cnt is normally distributed"
   ]
  },
  {
   "cell_type": "code",
   "execution_count": 288,
   "metadata": {},
   "outputs": [
    {
     "data": {
      "image/png": "[encoded data removed]",
      "text/plain": [
       "<Figure size 432x288 with 1 Axes>"
      ]
     },
     "metadata": {
      "needs_background": "light"
     },
     "output_type": "display_data"
    },
    {
     "data": {
      "image/png": "[encoded data removed]",
      "text/plain": [
       "<Figure size 432x288 with 1 Axes>"
      ]
     },
     "metadata": {
      "needs_background": "light"
     },
     "output_type": "display_data"
    },
    {
     "data": {
      "image/png": "[encoded data removed]",
      "text/plain": [
       "<Figure size 432x288 with 1 Axes>"
      ]
     },
     "metadata": {
      "needs_background": "light"
     },
     "output_type": "display_data"
    },
    {
     "data": {
      "image/png": "[encoded data removed]",
      "text/plain": [
       "<Figure size 432x288 with 1 Axes>"
      ]
     },
     "metadata": {
      "needs_background": "light"
     },
     "output_type": "display_data"
    },
    {
     "data": {
      "image/png": "[encoded data removed]",
      "text/plain": [
       "<Figure size 432x288 with 1 Axes>"
      ]
     },
     "metadata": {
      "needs_background": "light"
     },
     "output_type": "display_data"
    }
   ],
   "source": [
    "#check Relationship of target variable with other continuous variables\n",
    "for var in continuous_variables:\n",
    "    plt.scatter(x=df_data[var],y=df_data['cnt'])\n",
    "    plt.xlabel('cnt')\n",
    "    plt.ylabel(var)\n",
    "    plt.show()"
   ]
  },
  {
   "cell_type": "markdown",
   "metadata": {},
   "source": [
    "# Outliers Analysis"
   ]
  },
  {
   "cell_type": "code",
   "execution_count": 289,
   "metadata": {},
   "outputs": [],
   "source": [
    "#copying the original data\n",
    "df = df_data.copy()"
   ]
  },
  {
   "cell_type": "code",
   "execution_count": 290,
   "metadata": {},
   "outputs": [
    {
     "data": {
      "image/png": "[encoded data removed]",
      "text/plain": [
       "<Figure size 432x288 with 1 Axes>"
      ]
     },
     "metadata": {
      "needs_background": "light"
     },
     "output_type": "display_data"
    },
    {
     "data": {
      "image/png": "[encoded data removed]",
      "text/plain": [
       "<Figure size 432x288 with 1 Axes>"
      ]
     },
     "metadata": {
      "needs_background": "light"
     },
     "output_type": "display_data"
    },
    {
     "data": {
      "image/png": "[encoded data removed]",
      "text/plain": [
       "<Figure size 432x288 with 1 Axes>"
      ]
     },
     "metadata": {
      "needs_background": "light"
     },
     "output_type": "display_data"
    },
    {
     "data": {
      "image/png": "[encoded data removed]",
      "text/plain": [
       "<Figure size 432x288 with 1 Axes>"
      ]
     },
     "metadata": {
      "needs_background": "light"
     },
     "output_type": "display_data"
    },
    {
     "data": {
      "image/png": "[encoded data removed]",
      "text/plain": [
       "<Figure size 432x288 with 1 Axes>"
      ]
     },
     "metadata": {
      "needs_background": "light"
     },
     "output_type": "display_data"
    }
   ],
   "source": [
    "#Boxplots of all continuous variables\n",
    "for var in continuous_variables:\n",
    "    sns.boxplot(y=var,data=df)\n",
    "    plt.title('Boxplot of '+var)\n",
    "    plt.show()"
   ]
  },
  {
   "cell_type": "code",
   "execution_count": 291,
   "metadata": {},
   "outputs": [
    {
     "data": {
      "image/png": "[encoded data removed]",
      "text/plain": [
       "<Figure size 432x288 with 1 Axes>"
      ]
     },
     "metadata": {
      "needs_background": "light"
     },
     "output_type": "display_data"
    },
    {
     "data": {
      "image/png": "[encoded data removed]",
      "text/plain": [
       "<Figure size 432x288 with 1 Axes>"
      ]
     },
     "metadata": {
      "needs_background": "light"
     },
     "output_type": "display_data"
    },
    {
     "data": {
      "image/png": "[encoded data removed]",
      "text/plain": [
       "<Figure size 432x288 with 1 Axes>"
      ]
     },
     "metadata": {
      "needs_background": "light"
     },
     "output_type": "display_data"
    },
    {
     "data": {
      "image/png": "[encoded data removed]",
      "text/plain": [
       "<Figure size 432x288 with 1 Axes>"
      ]
     },
     "metadata": {
      "needs_background": "light"
     },
     "output_type": "display_data"
    },
    {
     "data": {
      "image/png": "[encoded data removed]",
      "text/plain": [
       "<Figure size 432x288 with 1 Axes>"
      ]
     },
     "metadata": {
      "needs_background": "light"
     },
     "output_type": "display_data"
    },
    {
     "data": {
      "image/png": "[encoded data removed]",
      "text/plain": [
       "<Figure size 432x288 with 1 Axes>"
      ]
     },
     "metadata": {
      "needs_background": "light"
     },
     "output_type": "display_data"
    },
    {
     "data": {
      "image/png": "[encoded data removed]",
      "text/plain": [
       "<Figure size 432x288 with 1 Axes>"
      ]
     },
     "metadata": {
      "needs_background": "light"
     },
     "output_type": "display_data"
    }
   ],
   "source": [
    "#check the relationship between categorical variables and target variable\n",
    "for cname in categorical_variables:\n",
    "        sns.boxplot(x=cname,y='cnt',data=df)\n",
    "        plt.title('Boxplot of cnt vs '+cname)\n",
    "        plt.show()\n",
    "    \n",
    "        "
   ]
  },
  {
   "cell_type": "markdown",
   "metadata": {},
   "source": [
    " windspeed and hum have outliers"
   ]
  },
  {
   "cell_type": "markdown",
   "metadata": {},
   "source": [
    "### Removing Outliers"
   ]
  },
  {
   "cell_type": "code",
   "execution_count": 292,
   "metadata": {},
   "outputs": [
    {
     "name": "stdout",
     "output_type": "stream",
     "text": [
      "season           1.110807\n",
      "yr               0.500342\n",
      "mnth             3.451913\n",
      "holiday          0.167155\n",
      "weekday          2.004787\n",
      "workingday       0.465233\n",
      "weathersit       0.544894\n",
      "temp             0.183051\n",
      "atemp            0.162961\n",
      "hum              0.142429\n",
      "windspeed        0.077498\n",
      "cnt           1937.211452\n",
      "dtype: float64\n",
      "\n",
      " ----- Shape ---- \n",
      " (731, 12)\n"
     ]
    }
   ],
   "source": [
    "#checking standard deviation and shape of the data\n",
    "print(df.std())\n",
    "print('\\n ----- Shape ---- \\n',df.shape)"
   ]
  },
  {
   "cell_type": "code",
   "execution_count": 293,
   "metadata": {},
   "outputs": [],
   "source": [
    "#Dealing with outliers\n",
    "names = ['windspeed','hum'] #columns names having outliers\n",
    "for i in names:\n",
    "    q75, q25 = np.percentile(df[i], [75 ,25])\n",
    "    iqr = q75 - q25\n",
    "    minimum = q25 - (iqr*1.5)\n",
    "    maximum = q75 + (iqr*1.5)\n",
    "    df.loc[df[i] < minimum,i] = np.nan\n",
    "    df.loc[df[i] > maximum,i] = np.nan\n",
    "    \n",
    "#Calculate missing value\n",
    "missing_val = pd.DataFrame(df.isnull().sum())"
   ]
  },
  {
   "cell_type": "code",
   "execution_count": 294,
   "metadata": {},
   "outputs": [
    {
     "data": {
      "text/html": [
       "<div>\n",
       "<style scoped>\n",
       "    .dataframe tbody tr th:only-of-type {\n",
       "        vertical-align: middle;\n",
       "    }\n",
       "\n",
       "    .dataframe tbody tr th {\n",
       "        vertical-align: top;\n",
       "    }\n",
       "\n",
       "    .dataframe thead th {\n",
       "        text-align: right;\n",
       "    }\n",
       "</style>\n",
       "<table border=\"1\" class=\"dataframe\">\n",
       "  <thead>\n",
       "    <tr style=\"text-align: right;\">\n",
       "      <th></th>\n",
       "      <th>0</th>\n",
       "    </tr>\n",
       "  </thead>\n",
       "  <tbody>\n",
       "    <tr>\n",
       "      <th>season</th>\n",
       "      <td>0</td>\n",
       "    </tr>\n",
       "    <tr>\n",
       "      <th>yr</th>\n",
       "      <td>0</td>\n",
       "    </tr>\n",
       "    <tr>\n",
       "      <th>mnth</th>\n",
       "      <td>0</td>\n",
       "    </tr>\n",
       "    <tr>\n",
       "      <th>holiday</th>\n",
       "      <td>0</td>\n",
       "    </tr>\n",
       "    <tr>\n",
       "      <th>weekday</th>\n",
       "      <td>0</td>\n",
       "    </tr>\n",
       "    <tr>\n",
       "      <th>workingday</th>\n",
       "      <td>0</td>\n",
       "    </tr>\n",
       "    <tr>\n",
       "      <th>weathersit</th>\n",
       "      <td>0</td>\n",
       "    </tr>\n",
       "    <tr>\n",
       "      <th>temp</th>\n",
       "      <td>0</td>\n",
       "    </tr>\n",
       "    <tr>\n",
       "      <th>atemp</th>\n",
       "      <td>0</td>\n",
       "    </tr>\n",
       "    <tr>\n",
       "      <th>hum</th>\n",
       "      <td>2</td>\n",
       "    </tr>\n",
       "    <tr>\n",
       "      <th>windspeed</th>\n",
       "      <td>13</td>\n",
       "    </tr>\n",
       "    <tr>\n",
       "      <th>cnt</th>\n",
       "      <td>0</td>\n",
       "    </tr>\n",
       "  </tbody>\n",
       "</table>\n",
       "</div>"
      ],
      "text/plain": [
       "             0\n",
       "season       0\n",
       "yr           0\n",
       "mnth         0\n",
       "holiday      0\n",
       "weekday      0\n",
       "workingday   0\n",
       "weathersit   0\n",
       "temp         0\n",
       "atemp        0\n",
       "hum          2\n",
       "windspeed   13\n",
       "cnt          0"
      ]
     },
     "execution_count": 294,
     "metadata": {},
     "output_type": "execute_result"
    }
   ],
   "source": [
    "missing_val"
   ]
  },
  {
   "cell_type": "code",
   "execution_count": 295,
   "metadata": {},
   "outputs": [
    {
     "name": "stdout",
     "output_type": "stream",
     "text": [
      "Imputing row 1/731 with 0 missing, elapsed time: 0.108\n",
      "Imputing row 101/731 with 0 missing, elapsed time: 0.109\n",
      "Imputing row 201/731 with 0 missing, elapsed time: 0.110\n",
      "Imputing row 301/731 with 0 missing, elapsed time: 0.110\n",
      "Imputing row 401/731 with 0 missing, elapsed time: 0.111\n",
      "Imputing row 501/731 with 0 missing, elapsed time: 0.111\n",
      "Imputing row 601/731 with 0 missing, elapsed time: 0.111\n",
      "Imputing row 701/731 with 0 missing, elapsed time: 0.112\n"
     ]
    }
   ],
   "source": [
    "#Impute with KNN\n",
    "df = pd.DataFrame(KNN(k = 3).fit_transform(df), columns=df.columns,index=df_data.index)\n"
   ]
  },
  {
   "cell_type": "code",
   "execution_count": 296,
   "metadata": {},
   "outputs": [
    {
     "data": {
      "text/plain": [
       "season           1.110807\n",
       "yr               0.500342\n",
       "mnth             3.451913\n",
       "holiday          0.167155\n",
       "weekday          2.004787\n",
       "workingday       0.465233\n",
       "weathersit       0.544894\n",
       "temp             0.183051\n",
       "atemp            0.162961\n",
       "hum              0.139909\n",
       "windspeed        0.071741\n",
       "cnt           1937.211452\n",
       "dtype: float64"
      ]
     },
     "execution_count": 296,
     "metadata": {},
     "output_type": "execute_result"
    }
   ],
   "source": [
    "df.std()"
   ]
  },
  {
   "cell_type": "code",
   "execution_count": 297,
   "metadata": {},
   "outputs": [
    {
     "data": {
      "text/plain": [
       "season        0\n",
       "yr            0\n",
       "mnth          0\n",
       "holiday       0\n",
       "weekday       0\n",
       "workingday    0\n",
       "weathersit    0\n",
       "temp          0\n",
       "atemp         0\n",
       "hum           0\n",
       "windspeed     0\n",
       "cnt           0\n",
       "dtype: int64"
      ]
     },
     "execution_count": 297,
     "metadata": {},
     "output_type": "execute_result"
    }
   ],
   "source": [
    "df.isnull().sum()"
   ]
  },
  {
   "cell_type": "code",
   "execution_count": 298,
   "metadata": {},
   "outputs": [
    {
     "data": {
      "text/html": [
       "<div>\n",
       "<style scoped>\n",
       "    .dataframe tbody tr th:only-of-type {\n",
       "        vertical-align: middle;\n",
       "    }\n",
       "\n",
       "    .dataframe tbody tr th {\n",
       "        vertical-align: top;\n",
       "    }\n",
       "\n",
       "    .dataframe thead th {\n",
       "        text-align: right;\n",
       "    }\n",
       "</style>\n",
       "<table border=\"1\" class=\"dataframe\">\n",
       "  <thead>\n",
       "    <tr style=\"text-align: right;\">\n",
       "      <th></th>\n",
       "      <th>season</th>\n",
       "      <th>yr</th>\n",
       "      <th>mnth</th>\n",
       "      <th>holiday</th>\n",
       "      <th>weekday</th>\n",
       "      <th>workingday</th>\n",
       "      <th>weathersit</th>\n",
       "      <th>temp</th>\n",
       "      <th>atemp</th>\n",
       "      <th>hum</th>\n",
       "      <th>windspeed</th>\n",
       "      <th>cnt</th>\n",
       "    </tr>\n",
       "    <tr>\n",
       "      <th>dteday</th>\n",
       "      <th></th>\n",
       "      <th></th>\n",
       "      <th></th>\n",
       "      <th></th>\n",
       "      <th></th>\n",
       "      <th></th>\n",
       "      <th></th>\n",
       "      <th></th>\n",
       "      <th></th>\n",
       "      <th></th>\n",
       "      <th></th>\n",
       "      <th></th>\n",
       "    </tr>\n",
       "  </thead>\n",
       "  <tbody>\n",
       "    <tr>\n",
       "      <th>2011-01-01</th>\n",
       "      <td>1.0</td>\n",
       "      <td>0.0</td>\n",
       "      <td>1.0</td>\n",
       "      <td>0.0</td>\n",
       "      <td>6.0</td>\n",
       "      <td>0.0</td>\n",
       "      <td>2.0</td>\n",
       "      <td>0.344167</td>\n",
       "      <td>0.363625</td>\n",
       "      <td>0.805833</td>\n",
       "      <td>0.160446</td>\n",
       "      <td>985.0</td>\n",
       "    </tr>\n",
       "    <tr>\n",
       "      <th>2011-01-02</th>\n",
       "      <td>1.0</td>\n",
       "      <td>0.0</td>\n",
       "      <td>1.0</td>\n",
       "      <td>0.0</td>\n",
       "      <td>0.0</td>\n",
       "      <td>0.0</td>\n",
       "      <td>2.0</td>\n",
       "      <td>0.363478</td>\n",
       "      <td>0.353739</td>\n",
       "      <td>0.696087</td>\n",
       "      <td>0.248539</td>\n",
       "      <td>801.0</td>\n",
       "    </tr>\n",
       "    <tr>\n",
       "      <th>2011-01-03</th>\n",
       "      <td>1.0</td>\n",
       "      <td>0.0</td>\n",
       "      <td>1.0</td>\n",
       "      <td>0.0</td>\n",
       "      <td>1.0</td>\n",
       "      <td>1.0</td>\n",
       "      <td>1.0</td>\n",
       "      <td>0.196364</td>\n",
       "      <td>0.189405</td>\n",
       "      <td>0.437273</td>\n",
       "      <td>0.248309</td>\n",
       "      <td>1349.0</td>\n",
       "    </tr>\n",
       "    <tr>\n",
       "      <th>2011-01-04</th>\n",
       "      <td>1.0</td>\n",
       "      <td>0.0</td>\n",
       "      <td>1.0</td>\n",
       "      <td>0.0</td>\n",
       "      <td>2.0</td>\n",
       "      <td>1.0</td>\n",
       "      <td>1.0</td>\n",
       "      <td>0.200000</td>\n",
       "      <td>0.212122</td>\n",
       "      <td>0.590435</td>\n",
       "      <td>0.160296</td>\n",
       "      <td>1562.0</td>\n",
       "    </tr>\n",
       "    <tr>\n",
       "      <th>2011-01-05</th>\n",
       "      <td>1.0</td>\n",
       "      <td>0.0</td>\n",
       "      <td>1.0</td>\n",
       "      <td>0.0</td>\n",
       "      <td>3.0</td>\n",
       "      <td>1.0</td>\n",
       "      <td>1.0</td>\n",
       "      <td>0.226957</td>\n",
       "      <td>0.229270</td>\n",
       "      <td>0.436957</td>\n",
       "      <td>0.186900</td>\n",
       "      <td>1600.0</td>\n",
       "    </tr>\n",
       "  </tbody>\n",
       "</table>\n",
       "</div>"
      ],
      "text/plain": [
       "            season   yr  mnth  holiday  weekday  workingday  weathersit  \\\n",
       "dteday                                                                    \n",
       "2011-01-01     1.0  0.0   1.0      0.0      6.0         0.0         2.0   \n",
       "2011-01-02     1.0  0.0   1.0      0.0      0.0         0.0         2.0   \n",
       "2011-01-03     1.0  0.0   1.0      0.0      1.0         1.0         1.0   \n",
       "2011-01-04     1.0  0.0   1.0      0.0      2.0         1.0         1.0   \n",
       "2011-01-05     1.0  0.0   1.0      0.0      3.0         1.0         1.0   \n",
       "\n",
       "                temp     atemp       hum  windspeed     cnt  \n",
       "dteday                                                       \n",
       "2011-01-01  0.344167  0.363625  0.805833   0.160446   985.0  \n",
       "2011-01-02  0.363478  0.353739  0.696087   0.248539   801.0  \n",
       "2011-01-03  0.196364  0.189405  0.437273   0.248309  1349.0  \n",
       "2011-01-04  0.200000  0.212122  0.590435   0.160296  1562.0  \n",
       "2011-01-05  0.226957  0.229270  0.436957   0.186900  1600.0  "
      ]
     },
     "execution_count": 298,
     "metadata": {},
     "output_type": "execute_result"
    }
   ],
   "source": [
    "df.head()"
   ]
  },
  {
   "cell_type": "markdown",
   "metadata": {},
   "source": [
    "# Feature Selection"
   ]
  },
  {
   "cell_type": "code",
   "execution_count": 299,
   "metadata": {},
   "outputs": [
    {
     "data": {
      "image/png": "[encoded data removed]",
      "text/plain": [
       "<Figure size 720x720 with 2 Axes>"
      ]
     },
     "metadata": {
      "needs_background": "light"
     },
     "output_type": "display_data"
    }
   ],
   "source": [
    "#plot the heat map to check correlation\n",
    "df_corr = df.loc[:,continuous_variables]\n",
    "f, ax = plt.subplots(figsize=(10, 10))\n",
    "corr = df_corr.corr()\n",
    "sns.heatmap(data=corr,annot=True,square=True,linewidths=0.5,linecolor='w')\n",
    "plt.title(\"correlation between all continuous variables \\n\")\n",
    "plt.show()"
   ]
  },
  {
   "cell_type": "markdown",
   "metadata": {},
   "source": [
    "we can see that the variables 'temp' and 'atemp' are very highly correlated with each other."
   ]
  },
  {
   "cell_type": "markdown",
   "metadata": {},
   "source": [
    "### Chisquare test of independence"
   ]
  },
  {
   "cell_type": "markdown",
   "metadata": {},
   "source": [
    "Hypothesis testing :-\n",
    "\n",
    "    (i) Null Hypothesis: 2 variables are independent.\n",
    "    \n",
    "    (ii) Alternate Hypothesis: 2 variables are not independent.\n",
    "    \n",
    "   \"p\" is the probability the variables are independent.\n",
    "   \n",
    "If p-value is less than 0.05 then we reject the null hypothesis saying that 2 variables are dependent.\n",
    "\n",
    "And if p-value is greater than 0.05 then we accept the null hypothesis saying that 2 variables are independent."
   ]
  },
  {
   "cell_type": "code",
   "execution_count": 300,
   "metadata": {},
   "outputs": [],
   "source": [
    "dependent_variables = []\n",
    "independent_variables = []\n",
    "for i in categorical_variables:\n",
    "    for j in categorical_variables:\n",
    "        if(i == j):\n",
    "            continue\n",
    "        else:\n",
    "            chi2, p, dof, ex = chi2_contingency(pd.crosstab(df[i], df[j]))\n",
    "            if(p < 0.5):\n",
    "                dependent_variables.append((i,j,p))\n",
    "            else:\n",
    "                independent_variables.append((i,j,p))\n"
   ]
  },
  {
   "cell_type": "code",
   "execution_count": 301,
   "metadata": {},
   "outputs": [
    {
     "data": {
      "text/plain": [
       "[('season', 'mnth', 0.0),\n",
       " ('season', 'weathersit', 0.021179301044733697),\n",
       " ('yr', 'weathersit', 0.12737941480418666),\n",
       " ('mnth', 'season', 0.0),\n",
       " ('mnth', 'weathersit', 0.014637111771019196),\n",
       " ('holiday', 'weekday', 8.567055344615667e-11),\n",
       " ('holiday', 'workingday', 4.033370935452143e-11),\n",
       " ('weekday', 'holiday', 8.567055344615637e-11),\n",
       " ('weekday', 'workingday', 6.775030505809736e-136),\n",
       " ('weekday', 'weathersit', 0.2784593307450517),\n",
       " ('workingday', 'holiday', 4.033370935452143e-11),\n",
       " ('workingday', 'weekday', 6.775030505809736e-136),\n",
       " ('workingday', 'weathersit', 0.2537639982644043),\n",
       " ('weathersit', 'season', 0.02117930104473366),\n",
       " ('weathersit', 'yr', 0.12737941480418666),\n",
       " ('weathersit', 'mnth', 0.014637111771019196),\n",
       " ('weathersit', 'weekday', 0.27845933074505175),\n",
       " ('weathersit', 'workingday', 0.2537639982644043)]"
      ]
     },
     "execution_count": 301,
     "metadata": {},
     "output_type": "execute_result"
    }
   ],
   "source": [
    "dependent_variables"
   ]
  },
  {
   "cell_type": "markdown",
   "metadata": {},
   "source": [
    "features to be selected from above info:\n",
    "\n",
    "    (i)season have high dependency with mnth and weathersit with p value ~ 0 so we will keep season and discard mnth and    weathersit\n",
    "    \n",
    "    (ii)holiday have high dependency with weekday and workingday so we will keep holiday and discard other two\n",
    "    \n",
    "    (iii)yr have dependency with weathersit and we already discarded the weathersit so we will keep yr"
   ]
  },
  {
   "cell_type": "code",
   "execution_count": 302,
   "metadata": {},
   "outputs": [
    {
     "data": {
      "text/plain": [
       "(731, 12)"
      ]
     },
     "execution_count": 302,
     "metadata": {},
     "output_type": "execute_result"
    }
   ],
   "source": [
    "#Before dropping columns\n",
    "df.shape"
   ]
  },
  {
   "cell_type": "code",
   "execution_count": 303,
   "metadata": {},
   "outputs": [],
   "source": [
    "df =df.drop(columns=['mnth','weathersit','weekday','workingday'])"
   ]
  },
  {
   "cell_type": "code",
   "execution_count": 304,
   "metadata": {},
   "outputs": [
    {
     "data": {
      "text/plain": [
       "(731, 7)"
      ]
     },
     "execution_count": 304,
     "metadata": {},
     "output_type": "execute_result"
    }
   ],
   "source": [
    "#dropping atemp because of its high correlation with temp\n",
    "df = df.drop(columns=['atemp'])\n",
    "#After dropping columns\n",
    "df.shape"
   ]
  },
  {
   "cell_type": "code",
   "execution_count": 305,
   "metadata": {},
   "outputs": [
    {
     "data": {
      "text/html": [
       "<div>\n",
       "<style scoped>\n",
       "    .dataframe tbody tr th:only-of-type {\n",
       "        vertical-align: middle;\n",
       "    }\n",
       "\n",
       "    .dataframe tbody tr th {\n",
       "        vertical-align: top;\n",
       "    }\n",
       "\n",
       "    .dataframe thead th {\n",
       "        text-align: right;\n",
       "    }\n",
       "</style>\n",
       "<table border=\"1\" class=\"dataframe\">\n",
       "  <thead>\n",
       "    <tr style=\"text-align: right;\">\n",
       "      <th></th>\n",
       "      <th>season</th>\n",
       "      <th>yr</th>\n",
       "      <th>holiday</th>\n",
       "      <th>temp</th>\n",
       "      <th>hum</th>\n",
       "      <th>windspeed</th>\n",
       "      <th>cnt</th>\n",
       "    </tr>\n",
       "  </thead>\n",
       "  <tbody>\n",
       "    <tr>\n",
       "      <th>count</th>\n",
       "      <td>731.000000</td>\n",
       "      <td>731.000000</td>\n",
       "      <td>731.000000</td>\n",
       "      <td>731.000000</td>\n",
       "      <td>731.000000</td>\n",
       "      <td>731.000000</td>\n",
       "      <td>731.000000</td>\n",
       "    </tr>\n",
       "    <tr>\n",
       "      <th>mean</th>\n",
       "      <td>2.496580</td>\n",
       "      <td>0.500684</td>\n",
       "      <td>0.028728</td>\n",
       "      <td>0.495385</td>\n",
       "      <td>0.629722</td>\n",
       "      <td>0.186642</td>\n",
       "      <td>4504.348837</td>\n",
       "    </tr>\n",
       "    <tr>\n",
       "      <th>std</th>\n",
       "      <td>1.110807</td>\n",
       "      <td>0.500342</td>\n",
       "      <td>0.167155</td>\n",
       "      <td>0.183051</td>\n",
       "      <td>0.139909</td>\n",
       "      <td>0.071741</td>\n",
       "      <td>1937.211452</td>\n",
       "    </tr>\n",
       "    <tr>\n",
       "      <th>min</th>\n",
       "      <td>1.000000</td>\n",
       "      <td>0.000000</td>\n",
       "      <td>0.000000</td>\n",
       "      <td>0.059130</td>\n",
       "      <td>0.254167</td>\n",
       "      <td>0.022392</td>\n",
       "      <td>22.000000</td>\n",
       "    </tr>\n",
       "    <tr>\n",
       "      <th>25%</th>\n",
       "      <td>2.000000</td>\n",
       "      <td>0.000000</td>\n",
       "      <td>0.000000</td>\n",
       "      <td>0.337083</td>\n",
       "      <td>0.522291</td>\n",
       "      <td>0.134340</td>\n",
       "      <td>3152.000000</td>\n",
       "    </tr>\n",
       "    <tr>\n",
       "      <th>50%</th>\n",
       "      <td>3.000000</td>\n",
       "      <td>1.000000</td>\n",
       "      <td>0.000000</td>\n",
       "      <td>0.498333</td>\n",
       "      <td>0.629167</td>\n",
       "      <td>0.179117</td>\n",
       "      <td>4548.000000</td>\n",
       "    </tr>\n",
       "    <tr>\n",
       "      <th>75%</th>\n",
       "      <td>3.000000</td>\n",
       "      <td>1.000000</td>\n",
       "      <td>0.000000</td>\n",
       "      <td>0.655417</td>\n",
       "      <td>0.730833</td>\n",
       "      <td>0.230723</td>\n",
       "      <td>5956.000000</td>\n",
       "    </tr>\n",
       "    <tr>\n",
       "      <th>max</th>\n",
       "      <td>4.000000</td>\n",
       "      <td>1.000000</td>\n",
       "      <td>1.000000</td>\n",
       "      <td>0.861667</td>\n",
       "      <td>0.972500</td>\n",
       "      <td>0.378108</td>\n",
       "      <td>8714.000000</td>\n",
       "    </tr>\n",
       "  </tbody>\n",
       "</table>\n",
       "</div>"
      ],
      "text/plain": [
       "           season          yr     holiday        temp         hum   windspeed  \\\n",
       "count  731.000000  731.000000  731.000000  731.000000  731.000000  731.000000   \n",
       "mean     2.496580    0.500684    0.028728    0.495385    0.629722    0.186642   \n",
       "std      1.110807    0.500342    0.167155    0.183051    0.139909    0.071741   \n",
       "min      1.000000    0.000000    0.000000    0.059130    0.254167    0.022392   \n",
       "25%      2.000000    0.000000    0.000000    0.337083    0.522291    0.134340   \n",
       "50%      3.000000    1.000000    0.000000    0.498333    0.629167    0.179117   \n",
       "75%      3.000000    1.000000    0.000000    0.655417    0.730833    0.230723   \n",
       "max      4.000000    1.000000    1.000000    0.861667    0.972500    0.378108   \n",
       "\n",
       "               cnt  \n",
       "count   731.000000  \n",
       "mean   4504.348837  \n",
       "std    1937.211452  \n",
       "min      22.000000  \n",
       "25%    3152.000000  \n",
       "50%    4548.000000  \n",
       "75%    5956.000000  \n",
       "max    8714.000000  "
      ]
     },
     "execution_count": 305,
     "metadata": {},
     "output_type": "execute_result"
    }
   ],
   "source": [
    "df.describe()"
   ]
  },
  {
   "cell_type": "markdown",
   "metadata": {},
   "source": [
    "#### Performing one hot encoding for categorical variables\n",
    "\n",
    "Below link helps me to understand it better\n",
    "\n",
    "https://hackernoon.com/what-is-one-hot-encoding-why-and-when-do-you-have-to-use-it-e3c6186d008f"
   ]
  },
  {
   "cell_type": "code",
   "execution_count": 306,
   "metadata": {},
   "outputs": [],
   "source": [
    "one_hot_vars = ['season','yr','holiday']\n",
    "#creating dummies \n",
    "for i in one_hot_vars:\n",
    "    temp = pd.get_dummies(df[i],prefix=i)\n",
    "    df = df.join(temp)\n",
    "#dropping variables which are used for one hot encodng\n",
    "df = df.drop(columns=one_hot_vars)"
   ]
  },
  {
   "cell_type": "code",
   "execution_count": 307,
   "metadata": {},
   "outputs": [
    {
     "data": {
      "text/html": [
       "<div>\n",
       "<style scoped>\n",
       "    .dataframe tbody tr th:only-of-type {\n",
       "        vertical-align: middle;\n",
       "    }\n",
       "\n",
       "    .dataframe tbody tr th {\n",
       "        vertical-align: top;\n",
       "    }\n",
       "\n",
       "    .dataframe thead th {\n",
       "        text-align: right;\n",
       "    }\n",
       "</style>\n",
       "<table border=\"1\" class=\"dataframe\">\n",
       "  <thead>\n",
       "    <tr style=\"text-align: right;\">\n",
       "      <th></th>\n",
       "      <th>temp</th>\n",
       "      <th>hum</th>\n",
       "      <th>windspeed</th>\n",
       "      <th>cnt</th>\n",
       "      <th>season_1.0</th>\n",
       "      <th>season_2.0</th>\n",
       "      <th>season_3.0</th>\n",
       "      <th>season_4.0</th>\n",
       "      <th>yr_0.0</th>\n",
       "      <th>yr_1.0</th>\n",
       "      <th>holiday_0.0</th>\n",
       "      <th>holiday_1.0</th>\n",
       "    </tr>\n",
       "    <tr>\n",
       "      <th>dteday</th>\n",
       "      <th></th>\n",
       "      <th></th>\n",
       "      <th></th>\n",
       "      <th></th>\n",
       "      <th></th>\n",
       "      <th></th>\n",
       "      <th></th>\n",
       "      <th></th>\n",
       "      <th></th>\n",
       "      <th></th>\n",
       "      <th></th>\n",
       "      <th></th>\n",
       "    </tr>\n",
       "  </thead>\n",
       "  <tbody>\n",
       "    <tr>\n",
       "      <th>2011-01-01</th>\n",
       "      <td>0.344167</td>\n",
       "      <td>0.805833</td>\n",
       "      <td>0.160446</td>\n",
       "      <td>985.0</td>\n",
       "      <td>1</td>\n",
       "      <td>0</td>\n",
       "      <td>0</td>\n",
       "      <td>0</td>\n",
       "      <td>1</td>\n",
       "      <td>0</td>\n",
       "      <td>1</td>\n",
       "      <td>0</td>\n",
       "    </tr>\n",
       "    <tr>\n",
       "      <th>2011-01-02</th>\n",
       "      <td>0.363478</td>\n",
       "      <td>0.696087</td>\n",
       "      <td>0.248539</td>\n",
       "      <td>801.0</td>\n",
       "      <td>1</td>\n",
       "      <td>0</td>\n",
       "      <td>0</td>\n",
       "      <td>0</td>\n",
       "      <td>1</td>\n",
       "      <td>0</td>\n",
       "      <td>1</td>\n",
       "      <td>0</td>\n",
       "    </tr>\n",
       "    <tr>\n",
       "      <th>2011-01-03</th>\n",
       "      <td>0.196364</td>\n",
       "      <td>0.437273</td>\n",
       "      <td>0.248309</td>\n",
       "      <td>1349.0</td>\n",
       "      <td>1</td>\n",
       "      <td>0</td>\n",
       "      <td>0</td>\n",
       "      <td>0</td>\n",
       "      <td>1</td>\n",
       "      <td>0</td>\n",
       "      <td>1</td>\n",
       "      <td>0</td>\n",
       "    </tr>\n",
       "    <tr>\n",
       "      <th>2011-01-04</th>\n",
       "      <td>0.200000</td>\n",
       "      <td>0.590435</td>\n",
       "      <td>0.160296</td>\n",
       "      <td>1562.0</td>\n",
       "      <td>1</td>\n",
       "      <td>0</td>\n",
       "      <td>0</td>\n",
       "      <td>0</td>\n",
       "      <td>1</td>\n",
       "      <td>0</td>\n",
       "      <td>1</td>\n",
       "      <td>0</td>\n",
       "    </tr>\n",
       "    <tr>\n",
       "      <th>2011-01-05</th>\n",
       "      <td>0.226957</td>\n",
       "      <td>0.436957</td>\n",
       "      <td>0.186900</td>\n",
       "      <td>1600.0</td>\n",
       "      <td>1</td>\n",
       "      <td>0</td>\n",
       "      <td>0</td>\n",
       "      <td>0</td>\n",
       "      <td>1</td>\n",
       "      <td>0</td>\n",
       "      <td>1</td>\n",
       "      <td>0</td>\n",
       "    </tr>\n",
       "  </tbody>\n",
       "</table>\n",
       "</div>"
      ],
      "text/plain": [
       "                temp       hum  windspeed     cnt  season_1.0  season_2.0  \\\n",
       "dteday                                                                      \n",
       "2011-01-01  0.344167  0.805833   0.160446   985.0           1           0   \n",
       "2011-01-02  0.363478  0.696087   0.248539   801.0           1           0   \n",
       "2011-01-03  0.196364  0.437273   0.248309  1349.0           1           0   \n",
       "2011-01-04  0.200000  0.590435   0.160296  1562.0           1           0   \n",
       "2011-01-05  0.226957  0.436957   0.186900  1600.0           1           0   \n",
       "\n",
       "            season_3.0  season_4.0  yr_0.0  yr_1.0  holiday_0.0  holiday_1.0  \n",
       "dteday                                                                        \n",
       "2011-01-01           0           0       1       0            1            0  \n",
       "2011-01-02           0           0       1       0            1            0  \n",
       "2011-01-03           0           0       1       0            1            0  \n",
       "2011-01-04           0           0       1       0            1            0  \n",
       "2011-01-05           0           0       1       0            1            0  "
      ]
     },
     "execution_count": 307,
     "metadata": {},
     "output_type": "execute_result"
    }
   ],
   "source": [
    "df.head()"
   ]
  },
  {
   "cell_type": "markdown",
   "metadata": {},
   "source": [
    "# Feature Scaling"
   ]
  },
  {
   "cell_type": "code",
   "execution_count": 308,
   "metadata": {},
   "outputs": [
    {
     "data": {
      "text/plain": [
       "temp         3.350767e-02\n",
       "hum          1.957466e-02\n",
       "windspeed    5.146815e-03\n",
       "cnt          3.752788e+06\n",
       "dtype: float64"
      ]
     },
     "execution_count": 308,
     "metadata": {},
     "output_type": "execute_result"
    }
   ],
   "source": [
    "#quickly check the variance of continuos variables\n",
    "vars = ['temp','hum','windspeed','cnt']\n",
    "df[vars].var()"
   ]
  },
  {
   "cell_type": "code",
   "execution_count": 309,
   "metadata": {},
   "outputs": [
    {
     "name": "stdout",
     "output_type": "stream",
     "text": [
      "temp\n",
      "hum\n",
      "windspeed\n",
      "cnt\n"
     ]
    }
   ],
   "source": [
    "#Normalisation\n",
    "for i in vars:\n",
    "    print(i)\n",
    "    df[i] = (df[i] - min(df[i]))/(max(df[i]) - min(df[i]))"
   ]
  },
  {
   "cell_type": "code",
   "execution_count": 310,
   "metadata": {},
   "outputs": [
    {
     "data": {
      "text/html": [
       "<div>\n",
       "<style scoped>\n",
       "    .dataframe tbody tr th:only-of-type {\n",
       "        vertical-align: middle;\n",
       "    }\n",
       "\n",
       "    .dataframe tbody tr th {\n",
       "        vertical-align: top;\n",
       "    }\n",
       "\n",
       "    .dataframe thead th {\n",
       "        text-align: right;\n",
       "    }\n",
       "</style>\n",
       "<table border=\"1\" class=\"dataframe\">\n",
       "  <thead>\n",
       "    <tr style=\"text-align: right;\">\n",
       "      <th></th>\n",
       "      <th>temp</th>\n",
       "      <th>hum</th>\n",
       "      <th>windspeed</th>\n",
       "      <th>cnt</th>\n",
       "      <th>season_1.0</th>\n",
       "      <th>season_2.0</th>\n",
       "      <th>season_3.0</th>\n",
       "      <th>season_4.0</th>\n",
       "      <th>yr_0.0</th>\n",
       "      <th>yr_1.0</th>\n",
       "      <th>holiday_0.0</th>\n",
       "      <th>holiday_1.0</th>\n",
       "    </tr>\n",
       "    <tr>\n",
       "      <th>dteday</th>\n",
       "      <th></th>\n",
       "      <th></th>\n",
       "      <th></th>\n",
       "      <th></th>\n",
       "      <th></th>\n",
       "      <th></th>\n",
       "      <th></th>\n",
       "      <th></th>\n",
       "      <th></th>\n",
       "      <th></th>\n",
       "      <th></th>\n",
       "      <th></th>\n",
       "    </tr>\n",
       "  </thead>\n",
       "  <tbody>\n",
       "    <tr>\n",
       "      <th>2011-01-01</th>\n",
       "      <td>0.355170</td>\n",
       "      <td>0.767981</td>\n",
       "      <td>0.388102</td>\n",
       "      <td>0.110792</td>\n",
       "      <td>1</td>\n",
       "      <td>0</td>\n",
       "      <td>0</td>\n",
       "      <td>0</td>\n",
       "      <td>1</td>\n",
       "      <td>0</td>\n",
       "      <td>1</td>\n",
       "      <td>0</td>\n",
       "    </tr>\n",
       "    <tr>\n",
       "      <th>2011-01-02</th>\n",
       "      <td>0.379232</td>\n",
       "      <td>0.615202</td>\n",
       "      <td>0.635752</td>\n",
       "      <td>0.089623</td>\n",
       "      <td>1</td>\n",
       "      <td>0</td>\n",
       "      <td>0</td>\n",
       "      <td>0</td>\n",
       "      <td>1</td>\n",
       "      <td>0</td>\n",
       "      <td>1</td>\n",
       "      <td>0</td>\n",
       "    </tr>\n",
       "    <tr>\n",
       "      <th>2011-01-03</th>\n",
       "      <td>0.171000</td>\n",
       "      <td>0.254904</td>\n",
       "      <td>0.635105</td>\n",
       "      <td>0.152669</td>\n",
       "      <td>1</td>\n",
       "      <td>0</td>\n",
       "      <td>0</td>\n",
       "      <td>0</td>\n",
       "      <td>1</td>\n",
       "      <td>0</td>\n",
       "      <td>1</td>\n",
       "      <td>0</td>\n",
       "    </tr>\n",
       "    <tr>\n",
       "      <th>2011-01-04</th>\n",
       "      <td>0.175530</td>\n",
       "      <td>0.468123</td>\n",
       "      <td>0.387681</td>\n",
       "      <td>0.177174</td>\n",
       "      <td>1</td>\n",
       "      <td>0</td>\n",
       "      <td>0</td>\n",
       "      <td>0</td>\n",
       "      <td>1</td>\n",
       "      <td>0</td>\n",
       "      <td>1</td>\n",
       "      <td>0</td>\n",
       "    </tr>\n",
       "    <tr>\n",
       "      <th>2011-01-05</th>\n",
       "      <td>0.209120</td>\n",
       "      <td>0.254464</td>\n",
       "      <td>0.462471</td>\n",
       "      <td>0.181546</td>\n",
       "      <td>1</td>\n",
       "      <td>0</td>\n",
       "      <td>0</td>\n",
       "      <td>0</td>\n",
       "      <td>1</td>\n",
       "      <td>0</td>\n",
       "      <td>1</td>\n",
       "      <td>0</td>\n",
       "    </tr>\n",
       "  </tbody>\n",
       "</table>\n",
       "</div>"
      ],
      "text/plain": [
       "                temp       hum  windspeed       cnt  season_1.0  season_2.0  \\\n",
       "dteday                                                                        \n",
       "2011-01-01  0.355170  0.767981   0.388102  0.110792           1           0   \n",
       "2011-01-02  0.379232  0.615202   0.635752  0.089623           1           0   \n",
       "2011-01-03  0.171000  0.254904   0.635105  0.152669           1           0   \n",
       "2011-01-04  0.175530  0.468123   0.387681  0.177174           1           0   \n",
       "2011-01-05  0.209120  0.254464   0.462471  0.181546           1           0   \n",
       "\n",
       "            season_3.0  season_4.0  yr_0.0  yr_1.0  holiday_0.0  holiday_1.0  \n",
       "dteday                                                                        \n",
       "2011-01-01           0           0       1       0            1            0  \n",
       "2011-01-02           0           0       1       0            1            0  \n",
       "2011-01-03           0           0       1       0            1            0  \n",
       "2011-01-04           0           0       1       0            1            0  \n",
       "2011-01-05           0           0       1       0            1            0  "
      ]
     },
     "execution_count": 310,
     "metadata": {},
     "output_type": "execute_result"
    }
   ],
   "source": [
    "df.head()"
   ]
  },
  {
   "cell_type": "code",
   "execution_count": 311,
   "metadata": {},
   "outputs": [
    {
     "data": {
      "text/html": [
       "<div>\n",
       "<style scoped>\n",
       "    .dataframe tbody tr th:only-of-type {\n",
       "        vertical-align: middle;\n",
       "    }\n",
       "\n",
       "    .dataframe tbody tr th {\n",
       "        vertical-align: top;\n",
       "    }\n",
       "\n",
       "    .dataframe thead th {\n",
       "        text-align: right;\n",
       "    }\n",
       "</style>\n",
       "<table border=\"1\" class=\"dataframe\">\n",
       "  <thead>\n",
       "    <tr style=\"text-align: right;\">\n",
       "      <th></th>\n",
       "      <th>temp</th>\n",
       "      <th>hum</th>\n",
       "      <th>windspeed</th>\n",
       "      <th>cnt</th>\n",
       "    </tr>\n",
       "  </thead>\n",
       "  <tbody>\n",
       "    <tr>\n",
       "      <th>count</th>\n",
       "      <td>731.000000</td>\n",
       "      <td>731.000000</td>\n",
       "      <td>731.000000</td>\n",
       "      <td>731.000000</td>\n",
       "    </tr>\n",
       "    <tr>\n",
       "      <th>mean</th>\n",
       "      <td>0.543594</td>\n",
       "      <td>0.522814</td>\n",
       "      <td>0.461747</td>\n",
       "      <td>0.515687</td>\n",
       "    </tr>\n",
       "    <tr>\n",
       "      <th>std</th>\n",
       "      <td>0.228091</td>\n",
       "      <td>0.194770</td>\n",
       "      <td>0.201681</td>\n",
       "      <td>0.222873</td>\n",
       "    </tr>\n",
       "    <tr>\n",
       "      <th>min</th>\n",
       "      <td>0.000000</td>\n",
       "      <td>0.000000</td>\n",
       "      <td>0.000000</td>\n",
       "      <td>0.000000</td>\n",
       "    </tr>\n",
       "    <tr>\n",
       "      <th>25%</th>\n",
       "      <td>0.346343</td>\n",
       "      <td>0.373259</td>\n",
       "      <td>0.314711</td>\n",
       "      <td>0.360101</td>\n",
       "    </tr>\n",
       "    <tr>\n",
       "      <th>50%</th>\n",
       "      <td>0.547268</td>\n",
       "      <td>0.522042</td>\n",
       "      <td>0.440591</td>\n",
       "      <td>0.520709</td>\n",
       "    </tr>\n",
       "    <tr>\n",
       "      <th>75%</th>\n",
       "      <td>0.743002</td>\n",
       "      <td>0.663573</td>\n",
       "      <td>0.585667</td>\n",
       "      <td>0.682697</td>\n",
       "    </tr>\n",
       "    <tr>\n",
       "      <th>max</th>\n",
       "      <td>1.000000</td>\n",
       "      <td>1.000000</td>\n",
       "      <td>1.000000</td>\n",
       "      <td>1.000000</td>\n",
       "    </tr>\n",
       "  </tbody>\n",
       "</table>\n",
       "</div>"
      ],
      "text/plain": [
       "             temp         hum   windspeed         cnt\n",
       "count  731.000000  731.000000  731.000000  731.000000\n",
       "mean     0.543594    0.522814    0.461747    0.515687\n",
       "std      0.228091    0.194770    0.201681    0.222873\n",
       "min      0.000000    0.000000    0.000000    0.000000\n",
       "25%      0.346343    0.373259    0.314711    0.360101\n",
       "50%      0.547268    0.522042    0.440591    0.520709\n",
       "75%      0.743002    0.663573    0.585667    0.682697\n",
       "max      1.000000    1.000000    1.000000    1.000000"
      ]
     },
     "execution_count": 311,
     "metadata": {},
     "output_type": "execute_result"
    }
   ],
   "source": [
    "df[vars].describe()"
   ]
  },
  {
   "cell_type": "code",
   "execution_count": 312,
   "metadata": {},
   "outputs": [
    {
     "data": {
      "text/html": [
       "<div>\n",
       "<style scoped>\n",
       "    .dataframe tbody tr th:only-of-type {\n",
       "        vertical-align: middle;\n",
       "    }\n",
       "\n",
       "    .dataframe tbody tr th {\n",
       "        vertical-align: top;\n",
       "    }\n",
       "\n",
       "    .dataframe thead th {\n",
       "        text-align: right;\n",
       "    }\n",
       "</style>\n",
       "<table border=\"1\" class=\"dataframe\">\n",
       "  <thead>\n",
       "    <tr style=\"text-align: right;\">\n",
       "      <th></th>\n",
       "      <th>temp</th>\n",
       "      <th>hum</th>\n",
       "      <th>windspeed</th>\n",
       "      <th>cnt</th>\n",
       "      <th>season_1.0</th>\n",
       "      <th>season_2.0</th>\n",
       "      <th>season_3.0</th>\n",
       "      <th>season_4.0</th>\n",
       "      <th>yr_0.0</th>\n",
       "      <th>yr_1.0</th>\n",
       "      <th>holiday_0.0</th>\n",
       "      <th>holiday_1.0</th>\n",
       "    </tr>\n",
       "    <tr>\n",
       "      <th>dteday</th>\n",
       "      <th></th>\n",
       "      <th></th>\n",
       "      <th></th>\n",
       "      <th></th>\n",
       "      <th></th>\n",
       "      <th></th>\n",
       "      <th></th>\n",
       "      <th></th>\n",
       "      <th></th>\n",
       "      <th></th>\n",
       "      <th></th>\n",
       "      <th></th>\n",
       "    </tr>\n",
       "  </thead>\n",
       "  <tbody>\n",
       "    <tr>\n",
       "      <th>2011-01-01</th>\n",
       "      <td>0.355170</td>\n",
       "      <td>0.767981</td>\n",
       "      <td>0.388102</td>\n",
       "      <td>0.110792</td>\n",
       "      <td>1</td>\n",
       "      <td>0</td>\n",
       "      <td>0</td>\n",
       "      <td>0</td>\n",
       "      <td>1</td>\n",
       "      <td>0</td>\n",
       "      <td>1</td>\n",
       "      <td>0</td>\n",
       "    </tr>\n",
       "    <tr>\n",
       "      <th>2011-01-02</th>\n",
       "      <td>0.379232</td>\n",
       "      <td>0.615202</td>\n",
       "      <td>0.635752</td>\n",
       "      <td>0.089623</td>\n",
       "      <td>1</td>\n",
       "      <td>0</td>\n",
       "      <td>0</td>\n",
       "      <td>0</td>\n",
       "      <td>1</td>\n",
       "      <td>0</td>\n",
       "      <td>1</td>\n",
       "      <td>0</td>\n",
       "    </tr>\n",
       "    <tr>\n",
       "      <th>2011-01-03</th>\n",
       "      <td>0.171000</td>\n",
       "      <td>0.254904</td>\n",
       "      <td>0.635105</td>\n",
       "      <td>0.152669</td>\n",
       "      <td>1</td>\n",
       "      <td>0</td>\n",
       "      <td>0</td>\n",
       "      <td>0</td>\n",
       "      <td>1</td>\n",
       "      <td>0</td>\n",
       "      <td>1</td>\n",
       "      <td>0</td>\n",
       "    </tr>\n",
       "    <tr>\n",
       "      <th>2011-01-04</th>\n",
       "      <td>0.175530</td>\n",
       "      <td>0.468123</td>\n",
       "      <td>0.387681</td>\n",
       "      <td>0.177174</td>\n",
       "      <td>1</td>\n",
       "      <td>0</td>\n",
       "      <td>0</td>\n",
       "      <td>0</td>\n",
       "      <td>1</td>\n",
       "      <td>0</td>\n",
       "      <td>1</td>\n",
       "      <td>0</td>\n",
       "    </tr>\n",
       "    <tr>\n",
       "      <th>2011-01-05</th>\n",
       "      <td>0.209120</td>\n",
       "      <td>0.254464</td>\n",
       "      <td>0.462471</td>\n",
       "      <td>0.181546</td>\n",
       "      <td>1</td>\n",
       "      <td>0</td>\n",
       "      <td>0</td>\n",
       "      <td>0</td>\n",
       "      <td>1</td>\n",
       "      <td>0</td>\n",
       "      <td>1</td>\n",
       "      <td>0</td>\n",
       "    </tr>\n",
       "  </tbody>\n",
       "</table>\n",
       "</div>"
      ],
      "text/plain": [
       "                temp       hum  windspeed       cnt  season_1.0  season_2.0  \\\n",
       "dteday                                                                        \n",
       "2011-01-01  0.355170  0.767981   0.388102  0.110792           1           0   \n",
       "2011-01-02  0.379232  0.615202   0.635752  0.089623           1           0   \n",
       "2011-01-03  0.171000  0.254904   0.635105  0.152669           1           0   \n",
       "2011-01-04  0.175530  0.468123   0.387681  0.177174           1           0   \n",
       "2011-01-05  0.209120  0.254464   0.462471  0.181546           1           0   \n",
       "\n",
       "            season_3.0  season_4.0  yr_0.0  yr_1.0  holiday_0.0  holiday_1.0  \n",
       "dteday                                                                        \n",
       "2011-01-01           0           0       1       0            1            0  \n",
       "2011-01-02           0           0       1       0            1            0  \n",
       "2011-01-03           0           0       1       0            1            0  \n",
       "2011-01-04           0           0       1       0            1            0  \n",
       "2011-01-05           0           0       1       0            1            0  "
      ]
     },
     "execution_count": 312,
     "metadata": {},
     "output_type": "execute_result"
    }
   ],
   "source": [
    "df.head()"
   ]
  },
  {
   "cell_type": "markdown",
   "metadata": {},
   "source": [
    "# Splitting data into train and test"
   ]
  },
  {
   "cell_type": "code",
   "execution_count": 313,
   "metadata": {},
   "outputs": [],
   "source": [
    "train, test = train_test_split(df,test_size=0.2)"
   ]
  },
  {
   "cell_type": "code",
   "execution_count": 314,
   "metadata": {},
   "outputs": [
    {
     "data": {
      "text/html": [
       "<div>\n",
       "<style scoped>\n",
       "    .dataframe tbody tr th:only-of-type {\n",
       "        vertical-align: middle;\n",
       "    }\n",
       "\n",
       "    .dataframe tbody tr th {\n",
       "        vertical-align: top;\n",
       "    }\n",
       "\n",
       "    .dataframe thead th {\n",
       "        text-align: right;\n",
       "    }\n",
       "</style>\n",
       "<table border=\"1\" class=\"dataframe\">\n",
       "  <thead>\n",
       "    <tr style=\"text-align: right;\">\n",
       "      <th></th>\n",
       "      <th>temp</th>\n",
       "      <th>hum</th>\n",
       "      <th>windspeed</th>\n",
       "      <th>cnt</th>\n",
       "      <th>season_1.0</th>\n",
       "      <th>season_2.0</th>\n",
       "      <th>season_3.0</th>\n",
       "      <th>season_4.0</th>\n",
       "      <th>yr_0.0</th>\n",
       "      <th>yr_1.0</th>\n",
       "      <th>holiday_0.0</th>\n",
       "      <th>holiday_1.0</th>\n",
       "    </tr>\n",
       "    <tr>\n",
       "      <th>dteday</th>\n",
       "      <th></th>\n",
       "      <th></th>\n",
       "      <th></th>\n",
       "      <th></th>\n",
       "      <th></th>\n",
       "      <th></th>\n",
       "      <th></th>\n",
       "      <th></th>\n",
       "      <th></th>\n",
       "      <th></th>\n",
       "      <th></th>\n",
       "      <th></th>\n",
       "    </tr>\n",
       "  </thead>\n",
       "  <tbody>\n",
       "    <tr>\n",
       "      <th>2011-03-17</th>\n",
       "      <td>0.443431</td>\n",
       "      <td>0.485499</td>\n",
       "      <td>0.526226</td>\n",
       "      <td>0.313162</td>\n",
       "      <td>1</td>\n",
       "      <td>0</td>\n",
       "      <td>0</td>\n",
       "      <td>0</td>\n",
       "      <td>1</td>\n",
       "      <td>0</td>\n",
       "      <td>1</td>\n",
       "      <td>0</td>\n",
       "    </tr>\n",
       "    <tr>\n",
       "      <th>2012-10-24</th>\n",
       "      <td>0.658374</td>\n",
       "      <td>0.531902</td>\n",
       "      <td>0.141651</td>\n",
       "      <td>0.882536</td>\n",
       "      <td>0</td>\n",
       "      <td>0</td>\n",
       "      <td>0</td>\n",
       "      <td>1</td>\n",
       "      <td>0</td>\n",
       "      <td>1</td>\n",
       "      <td>1</td>\n",
       "      <td>0</td>\n",
       "    </tr>\n",
       "    <tr>\n",
       "      <th>2012-08-28</th>\n",
       "      <td>0.833859</td>\n",
       "      <td>0.509281</td>\n",
       "      <td>0.473786</td>\n",
       "      <td>0.807409</td>\n",
       "      <td>0</td>\n",
       "      <td>0</td>\n",
       "      <td>1</td>\n",
       "      <td>0</td>\n",
       "      <td>0</td>\n",
       "      <td>1</td>\n",
       "      <td>1</td>\n",
       "      <td>0</td>\n",
       "    </tr>\n",
       "    <tr>\n",
       "      <th>2011-02-23</th>\n",
       "      <td>0.202618</td>\n",
       "      <td>0.235094</td>\n",
       "      <td>0.201625</td>\n",
       "      <td>0.218017</td>\n",
       "      <td>1</td>\n",
       "      <td>0</td>\n",
       "      <td>0</td>\n",
       "      <td>0</td>\n",
       "      <td>1</td>\n",
       "      <td>0</td>\n",
       "      <td>1</td>\n",
       "      <td>0</td>\n",
       "    </tr>\n",
       "    <tr>\n",
       "      <th>2011-04-06</th>\n",
       "      <td>0.413318</td>\n",
       "      <td>0.301623</td>\n",
       "      <td>0.676582</td>\n",
       "      <td>0.320525</td>\n",
       "      <td>0</td>\n",
       "      <td>1</td>\n",
       "      <td>0</td>\n",
       "      <td>0</td>\n",
       "      <td>1</td>\n",
       "      <td>0</td>\n",
       "      <td>1</td>\n",
       "      <td>0</td>\n",
       "    </tr>\n",
       "  </tbody>\n",
       "</table>\n",
       "</div>"
      ],
      "text/plain": [
       "                temp       hum  windspeed       cnt  season_1.0  season_2.0  \\\n",
       "dteday                                                                        \n",
       "2011-03-17  0.443431  0.485499   0.526226  0.313162           1           0   \n",
       "2012-10-24  0.658374  0.531902   0.141651  0.882536           0           0   \n",
       "2012-08-28  0.833859  0.509281   0.473786  0.807409           0           0   \n",
       "2011-02-23  0.202618  0.235094   0.201625  0.218017           1           0   \n",
       "2011-04-06  0.413318  0.301623   0.676582  0.320525           0           1   \n",
       "\n",
       "            season_3.0  season_4.0  yr_0.0  yr_1.0  holiday_0.0  holiday_1.0  \n",
       "dteday                                                                        \n",
       "2011-03-17           0           0       1       0            1            0  \n",
       "2012-10-24           0           1       0       1            1            0  \n",
       "2012-08-28           1           0       0       1            1            0  \n",
       "2011-02-23           0           0       1       0            1            0  \n",
       "2011-04-06           0           0       1       0            1            0  "
      ]
     },
     "execution_count": 314,
     "metadata": {},
     "output_type": "execute_result"
    }
   ],
   "source": [
    "train.head()"
   ]
  },
  {
   "cell_type": "code",
   "execution_count": 315,
   "metadata": {},
   "outputs": [
    {
     "data": {
      "text/html": [
       "<div>\n",
       "<style scoped>\n",
       "    .dataframe tbody tr th:only-of-type {\n",
       "        vertical-align: middle;\n",
       "    }\n",
       "\n",
       "    .dataframe tbody tr th {\n",
       "        vertical-align: top;\n",
       "    }\n",
       "\n",
       "    .dataframe thead th {\n",
       "        text-align: right;\n",
       "    }\n",
       "</style>\n",
       "<table border=\"1\" class=\"dataframe\">\n",
       "  <thead>\n",
       "    <tr style=\"text-align: right;\">\n",
       "      <th></th>\n",
       "      <th>temp</th>\n",
       "      <th>hum</th>\n",
       "      <th>windspeed</th>\n",
       "      <th>cnt</th>\n",
       "      <th>season_1.0</th>\n",
       "      <th>season_2.0</th>\n",
       "      <th>season_3.0</th>\n",
       "      <th>season_4.0</th>\n",
       "      <th>yr_0.0</th>\n",
       "      <th>yr_1.0</th>\n",
       "      <th>holiday_0.0</th>\n",
       "      <th>holiday_1.0</th>\n",
       "    </tr>\n",
       "    <tr>\n",
       "      <th>dteday</th>\n",
       "      <th></th>\n",
       "      <th></th>\n",
       "      <th></th>\n",
       "      <th></th>\n",
       "      <th></th>\n",
       "      <th></th>\n",
       "      <th></th>\n",
       "      <th></th>\n",
       "      <th></th>\n",
       "      <th></th>\n",
       "      <th></th>\n",
       "      <th></th>\n",
       "    </tr>\n",
       "  </thead>\n",
       "  <tbody>\n",
       "    <tr>\n",
       "      <th>2012-07-13</th>\n",
       "      <td>0.838014</td>\n",
       "      <td>0.322505</td>\n",
       "      <td>0.164340</td>\n",
       "      <td>0.860216</td>\n",
       "      <td>0</td>\n",
       "      <td>0</td>\n",
       "      <td>1</td>\n",
       "      <td>0</td>\n",
       "      <td>0</td>\n",
       "      <td>1</td>\n",
       "      <td>1</td>\n",
       "      <td>0</td>\n",
       "    </tr>\n",
       "    <tr>\n",
       "      <th>2012-11-14</th>\n",
       "      <td>0.286637</td>\n",
       "      <td>0.414732</td>\n",
       "      <td>0.498243</td>\n",
       "      <td>0.629659</td>\n",
       "      <td>0</td>\n",
       "      <td>0</td>\n",
       "      <td>0</td>\n",
       "      <td>1</td>\n",
       "      <td>0</td>\n",
       "      <td>1</td>\n",
       "      <td>1</td>\n",
       "      <td>0</td>\n",
       "    </tr>\n",
       "    <tr>\n",
       "      <th>2012-05-17</th>\n",
       "      <td>0.665643</td>\n",
       "      <td>0.370069</td>\n",
       "      <td>0.582159</td>\n",
       "      <td>0.846986</td>\n",
       "      <td>0</td>\n",
       "      <td>1</td>\n",
       "      <td>0</td>\n",
       "      <td>0</td>\n",
       "      <td>0</td>\n",
       "      <td>1</td>\n",
       "      <td>1</td>\n",
       "      <td>0</td>\n",
       "    </tr>\n",
       "    <tr>\n",
       "      <th>2012-12-28</th>\n",
       "      <td>0.241986</td>\n",
       "      <td>0.467517</td>\n",
       "      <td>0.374116</td>\n",
       "      <td>0.353543</td>\n",
       "      <td>1</td>\n",
       "      <td>0</td>\n",
       "      <td>0</td>\n",
       "      <td>0</td>\n",
       "      <td>0</td>\n",
       "      <td>1</td>\n",
       "      <td>1</td>\n",
       "      <td>0</td>\n",
       "    </tr>\n",
       "    <tr>\n",
       "      <th>2011-09-09</th>\n",
       "      <td>0.736253</td>\n",
       "      <td>0.896172</td>\n",
       "      <td>0.286710</td>\n",
       "      <td>0.405200</td>\n",
       "      <td>0</td>\n",
       "      <td>0</td>\n",
       "      <td>1</td>\n",
       "      <td>0</td>\n",
       "      <td>1</td>\n",
       "      <td>0</td>\n",
       "      <td>1</td>\n",
       "      <td>0</td>\n",
       "    </tr>\n",
       "  </tbody>\n",
       "</table>\n",
       "</div>"
      ],
      "text/plain": [
       "                temp       hum  windspeed       cnt  season_1.0  season_2.0  \\\n",
       "dteday                                                                        \n",
       "2012-07-13  0.838014  0.322505   0.164340  0.860216           0           0   \n",
       "2012-11-14  0.286637  0.414732   0.498243  0.629659           0           0   \n",
       "2012-05-17  0.665643  0.370069   0.582159  0.846986           0           1   \n",
       "2012-12-28  0.241986  0.467517   0.374116  0.353543           1           0   \n",
       "2011-09-09  0.736253  0.896172   0.286710  0.405200           0           0   \n",
       "\n",
       "            season_3.0  season_4.0  yr_0.0  yr_1.0  holiday_0.0  holiday_1.0  \n",
       "dteday                                                                        \n",
       "2012-07-13           1           0       0       1            1            0  \n",
       "2012-11-14           0           1       0       1            1            0  \n",
       "2012-05-17           0           0       0       1            1            0  \n",
       "2012-12-28           0           0       0       1            1            0  \n",
       "2011-09-09           1           0       1       0            1            0  "
      ]
     },
     "execution_count": 315,
     "metadata": {},
     "output_type": "execute_result"
    }
   ],
   "source": [
    "test.head()"
   ]
  },
  {
   "cell_type": "code",
   "execution_count": 316,
   "metadata": {},
   "outputs": [],
   "source": [
    "train_feature_variables = train.copy().drop(columns=['cnt'])\n",
    "test_feature_variables = test.copy().drop(columns=['cnt'])\n",
    "\n",
    "train_target_variable = pd.DataFrame(train['cnt'])\n",
    "test_target_variable = pd.DataFrame(test['cnt'])"
   ]
  },
  {
   "cell_type": "markdown",
   "metadata": {},
   "source": [
    "# Model Development"
   ]
  },
  {
   "cell_type": "markdown",
   "metadata": {},
   "source": [
    "### Decision Tree"
   ]
  },
  {
   "cell_type": "code",
   "execution_count": 400,
   "metadata": {},
   "outputs": [],
   "source": [
    "def mean_absolute_percentage_error(y_true, y_pred): \n",
    "    return np.mean(np.abs((y_true - y_pred) / y_true)) * 100"
   ]
  },
  {
   "cell_type": "code",
   "execution_count": 391,
   "metadata": {},
   "outputs": [
    {
     "data": {
      "text/plain": [
       "GridSearchCV(cv=5, error_score=nan,\n",
       "             estimator=DecisionTreeRegressor(ccp_alpha=0.0, criterion='mse',\n",
       "                                             max_depth=None, max_features=None,\n",
       "                                             max_leaf_nodes=None,\n",
       "                                             min_impurity_decrease=0.0,\n",
       "                                             min_impurity_split=None,\n",
       "                                             min_samples_leaf=1,\n",
       "                                             min_samples_split=2,\n",
       "                                             min_weight_fraction_leaf=0.0,\n",
       "                                             presort='deprecated',\n",
       "                                             random_state=None,\n",
       "                                             splitter='best'),\n",
       "             iid='deprecated', n_jobs=-1,\n",
       "             param_grid={'criterion': ['mse', 'mae'], 'max_depth': [2, 6, 8],\n",
       "                         'max_leaf_nodes': [5, 20, 100],\n",
       "                         'min_samples_leaf': [20, 40, 100],\n",
       "                         'min_samples_split': [10, 20, 40]},\n",
       "             pre_dispatch='2*n_jobs', refit=True, return_train_score=False,\n",
       "             scoring=None, verbose=0)"
      ]
     },
     "execution_count": 391,
     "metadata": {},
     "output_type": "execute_result"
    }
   ],
   "source": [
    "features =df.copy().drop(columns=['cnt'])\n",
    "target = df.copy().drop(columns=['temp', 'hum', 'windspeed', 'season_1.0', 'season_2.0',\n",
    "       'season_3.0', 'season_4.0', 'yr_0.0', 'yr_1.0', 'holiday_0.0',\n",
    "       'holiday_1.0'])\n",
    "d_tree = DecisionTreeRegressor()\n",
    "# Applying Grid Search to find the best parameters\n",
    "parameters = {\"criterion\": [\"mse\", \"mae\"],\n",
    "              \"min_samples_split\": [10, 20, 40],\n",
    "              \"max_depth\": [2, 6, 8],\n",
    "              \"min_samples_leaf\": [20, 40, 100],\n",
    "              \"max_leaf_nodes\": [5, 20, 100],\n",
    "              }\n",
    "grid_search = GridSearchCV(estimator=d_tree, param_grid=parameters,cv=5,n_jobs=-1)\n",
    "\n",
    "grid_search.fit(features,target)\n"
   ]
  },
  {
   "cell_type": "code",
   "execution_count": 392,
   "metadata": {},
   "outputs": [
    {
     "data": {
      "text/plain": [
       "0.04093814520572103"
      ]
     },
     "execution_count": 392,
     "metadata": {},
     "output_type": "execute_result"
    }
   ],
   "source": [
    "grid_search.best_score_"
   ]
  },
  {
   "cell_type": "code",
   "execution_count": 393,
   "metadata": {},
   "outputs": [
    {
     "data": {
      "text/plain": [
       "{'criterion': 'mse',\n",
       " 'max_depth': 8,\n",
       " 'max_leaf_nodes': 100,\n",
       " 'min_samples_leaf': 20,\n",
       " 'min_samples_split': 10}"
      ]
     },
     "execution_count": 393,
     "metadata": {},
     "output_type": "execute_result"
    }
   ],
   "source": [
    "grid_search.best_params_"
   ]
  },
  {
   "cell_type": "code",
   "execution_count": 395,
   "metadata": {},
   "outputs": [],
   "source": [
    "tree = DecisionTreeRegressor(criterion='mse',max_depth=8,max_leaf_nodes=100,min_samples_leaf=10,min_samples_split=10)"
   ]
  },
  {
   "cell_type": "code",
   "execution_count": 396,
   "metadata": {},
   "outputs": [
    {
     "data": {
      "text/plain": [
       "DecisionTreeRegressor(ccp_alpha=0.0, criterion='mse', max_depth=8,\n",
       "                      max_features=None, max_leaf_nodes=100,\n",
       "                      min_impurity_decrease=0.0, min_impurity_split=None,\n",
       "                      min_samples_leaf=10, min_samples_split=10,\n",
       "                      min_weight_fraction_leaf=0.0, presort='deprecated',\n",
       "                      random_state=None, splitter='best')"
      ]
     },
     "execution_count": 396,
     "metadata": {},
     "output_type": "execute_result"
    }
   ],
   "source": [
    "tree.fit(train_feature_variables,train_target_variable)"
   ]
  },
  {
   "cell_type": "code",
   "execution_count": 397,
   "metadata": {},
   "outputs": [],
   "source": [
    "prediction = tree.predict(test_feature_variables)\n",
    "prediction = pd.DataFrame(prediction)\n",
    "prediction = prediction.set_index(test_target_variable.index).rename(columns = {0:'cnt'})\n"
   ]
  },
  {
   "cell_type": "code",
   "execution_count": 407,
   "metadata": {},
   "outputs": [
    {
     "name": "stdout",
     "output_type": "stream",
     "text": [
      "R2 Score: 0.8538822024169046\n",
      "Mean Absolute Error: 0.06448892461923823\n",
      "Mean Squared Error: 0.00797092699887646\n",
      "Root Mean Squared Error: 0.08928004815677723\n",
      "MAPE: cnt    21.600067\n",
      "dtype: float64\n",
      "Accuracy: cnt    78.399933\n",
      "dtype: float64\n"
     ]
    }
   ],
   "source": [
    "#calculate RMSE on test data\n",
    "print(\"R2 Score:\",r2_score(test_target_variable,prediction))\n",
    "print(\"Mean Absolute Error:\",mean_absolute_error(test_target_variable,prediction))\n",
    "print(\"Mean Squared Error:\",mean_squared_error(test_target_variable,prediction))\n",
    "print(\"Root Mean Squared Error:\",np.sqrt(mean_squared_error(test_target_variable,prediction)))\n",
    "print(\"MAPE:\",mean_absolute_percentage_error(test_target_variable,prediction))\n",
    "print(\"Accuracy:\",(100 - mean_absolute_percentage_error(test_target_variable,prediction)))"
   ]
  },
  {
   "cell_type": "code",
   "execution_count": 404,
   "metadata": {},
   "outputs": [
    {
     "name": "stdout",
     "output_type": "stream",
     "text": [
      "R2 Score: 0.8636098579490773\n",
      "Mean Absolute Error: 0.058641751634872154\n",
      "Mean Squared Error: 0.006590866242788196\n",
      "Root Mean Squared Error: 0.081184150194408\n",
      "MAPE: cnt    inf\n",
      "dtype: float64\n",
      "Accuracy: cnt   -inf\n",
      "dtype: float64\n"
     ]
    }
   ],
   "source": [
    "#calculate RMSE on training data\n",
    "pred = pd.DataFrame(tree.predict(train_feature_variables))\n",
    "pred = pred.set_index(train_target_variable.index).rename(columns = {0:'cnt'})\n",
    "print(\"R2 Score:\",r2_score(train_target_variable,pred))\n",
    "print(\"Mean Absolute Error:\",mean_absolute_error(train_target_variable,pred))\n",
    "print(\"Mean Squared Error:\",mean_squared_error(train_target_variable,pred))\n",
    "print(\"Root Mean Squared Error:\",np.sqrt(mean_squared_error(train_target_variable,pred)))\n",
    "print(\"MAPE:\",mean_absolute_percentage_error(train_target_variable,pred))\n",
    "print(\"Accuracy:\",(100 - mean_absolute_percentage_error(train_target_variable,pred)))"
   ]
  },
  {
   "cell_type": "markdown",
   "metadata": {},
   "source": [
    "## Linear Regression"
   ]
  },
  {
   "cell_type": "code",
   "execution_count": 410,
   "metadata": {},
   "outputs": [
    {
     "data": {
      "text/plain": [
       "GridSearchCV(cv=5, error_score=nan,\n",
       "             estimator=LinearRegression(copy_X=True, fit_intercept=True,\n",
       "                                        n_jobs=None, normalize=False),\n",
       "             iid='deprecated', n_jobs=None,\n",
       "             param_grid={'copy_X': [True, False],\n",
       "                         'fit_intercept': [True, False]},\n",
       "             pre_dispatch='2*n_jobs', refit=True, return_train_score=False,\n",
       "             scoring='r2', verbose=0)"
      ]
     },
     "execution_count": 410,
     "metadata": {},
     "output_type": "execute_result"
    }
   ],
   "source": [
    "model = LinearRegression()\n",
    "#Grid Search\n",
    "parameters =  {'copy_X':[True, False],\n",
    "          'fit_intercept':[True,False]}\n",
    "model_grid = GridSearchCV(estimator=model,param_grid=parameters,cv=5,scoring='r2')\n",
    "model_grid.fit(features,target)"
   ]
  },
  {
   "cell_type": "code",
   "execution_count": 411,
   "metadata": {},
   "outputs": [
    {
     "name": "stdout",
     "output_type": "stream",
     "text": [
      "Best score: 0.32099064163348145 \n",
      " Best Parameters : {'copy_X': True, 'fit_intercept': False}\n"
     ]
    }
   ],
   "source": [
    "print(\"Best score:\",model_grid.best_score_,'\\n Best Parameters :',model_grid.best_params_)"
   ]
  },
  {
   "cell_type": "code",
   "execution_count": 417,
   "metadata": {},
   "outputs": [],
   "source": [
    "model = LinearRegression(copy_X= True, fit_intercept=False).fit(train_feature_variables,train_target_variable)\n",
    "prediction = model.predict(test_feature_variables)\n",
    "prediction = pd.DataFrame(prediction)\n",
    "prediction = prediction.set_index(test_target_variable.index).rename(columns = {0:'cnt'})"
   ]
  },
  {
   "cell_type": "code",
   "execution_count": 414,
   "metadata": {},
   "outputs": [
    {
     "name": "stdout",
     "output_type": "stream",
     "text": [
      "R2 Score: 0.8191423791114653\n",
      "Mean Absolute Error: 0.07372336877405293\n",
      "Mean Squared Error: 0.009866032181830303\n",
      "Root Mean Squared Error: 0.0993279023327801\n",
      "MAPE: cnt    20.09239\n",
      "dtype: float64\n",
      "Accuracy: cnt    79.90761\n",
      "dtype: float64\n"
     ]
    }
   ],
   "source": [
    "#calculate RMSE on test data\n",
    "print(\"R2 Score:\",r2_score(test_target_variable,prediction))\n",
    "print(\"Mean Absolute Error:\",mean_absolute_error(test_target_variable,prediction))\n",
    "print(\"Mean Squared Error:\",mean_squared_error(test_target_variable,prediction))\n",
    "print(\"Root Mean Squared Error:\",np.sqrt(mean_squared_error(test_target_variable,prediction)))\n",
    "print(\"MAPE:\",mean_absolute_percentage_error(test_target_variable,prediction))\n",
    "print(\"Accuracy:\",(100 - mean_absolute_percentage_error(test_target_variable,prediction)))"
   ]
  },
  {
   "cell_type": "code",
   "execution_count": 416,
   "metadata": {},
   "outputs": [
    {
     "name": "stdout",
     "output_type": "stream",
     "text": [
      "R2 Score: 0.7933088676507639\n",
      "Mean Absolute Error: 0.07385713999864145\n",
      "Mean Squared Error: 0.009988065019945709\n",
      "Root Mean Squared Error: 0.0999403072836266\n",
      "MAPE: cnt    inf\n",
      "dtype: float64\n",
      "Accuracy: cnt   -inf\n",
      "dtype: float64\n"
     ]
    }
   ],
   "source": [
    "#calculate RMSE on training data\n",
    "pred = pd.DataFrame(model.predict(train_feature_variables))\n",
    "pred = pred.set_index(train_target_variable.index).rename(columns = {0:'cnt'})\n",
    "print(\"R2 Score:\",r2_score(train_target_variable,pred))\n",
    "print(\"Mean Absolute Error:\",mean_absolute_error(train_target_variable,pred))\n",
    "print(\"Mean Squared Error:\",mean_squared_error(train_target_variable,pred))\n",
    "print(\"Root Mean Squared Error:\",np.sqrt(mean_squared_error(train_target_variable,pred)))\n",
    "print(\"MAPE:\",mean_absolute_percentage_error(train_target_variable,pred))\n",
    "print(\"Accuracy:\",(100 - mean_absolute_percentage_error(train_target_variable,pred)))"
   ]
  },
  {
   "cell_type": "markdown",
   "metadata": {},
   "source": [
    "## Random Forest"
   ]
  },
  {
   "cell_type": "code",
   "execution_count": 431,
   "metadata": {},
   "outputs": [
    {
     "name": "stdout",
     "output_type": "stream",
     "text": [
      "Best score: 0.30408577443144286 \n",
      " Best Parameters : {'max_depth': 11, 'min_samples_split': 4, 'n_estimators': 100}\n"
     ]
    }
   ],
   "source": [
    "# Create the random grid\n",
    "parameters = {'n_estimators': list(range(100,700,100)),\n",
    "               'max_depth': list(range(10,20,1)),\n",
    "               'min_samples_split':range(2,5,1)}\n",
    "\n",
    "Forest = RandomForestRegressor()\n",
    "\n",
    "# Instantiate the gridSearchCV object: Forest\n",
    "Forest_grid = GridSearchCV(estimator=Forest, param_grid=parameters, cv=5,n_jobs=-1)\n",
    "Forest_grid.fit(features,target.values.ravel())\n",
    "print(\"Best score:\",Forest_grid.best_score_,'\\n Best Parameters :',Forest_grid.best_params_)\n"
   ]
  },
  {
   "cell_type": "code",
   "execution_count": 435,
   "metadata": {},
   "outputs": [],
   "source": [
    "Forest = RandomForestRegressor(max_depth= 11, min_samples_split=4,n_estimators=100)\n",
    "Forest.fit(train_feature_variables,train_target_variable.values.ravel())\n",
    "prediction = Forest.predict(test_feature_variables)\n",
    "prediction = pd.DataFrame(prediction)\n",
    "prediction = prediction.set_index(test_target_variable.index).rename(columns = {0:'cnt'})"
   ]
  },
  {
   "cell_type": "code",
   "execution_count": 436,
   "metadata": {},
   "outputs": [
    {
     "name": "stdout",
     "output_type": "stream",
     "text": [
      "R2 Score: 0.9091978063123916\n",
      "Mean Absolute Error: 0.053799024998306445\n",
      "Mean Squared Error: 0.004953384660825899\n",
      "Root Mean Squared Error: 0.07038028602404156\n",
      "MAPE: cnt    16.624133\n",
      "dtype: float64\n",
      "Accuracy: cnt    83.375867\n",
      "dtype: float64\n"
     ]
    }
   ],
   "source": [
    "#calculate RMSE on test data\n",
    "print(\"R2 Score:\",r2_score(test_target_variable,prediction))\n",
    "print(\"Mean Absolute Error:\",mean_absolute_error(test_target_variable,prediction))\n",
    "print(\"Mean Squared Error:\",mean_squared_error(test_target_variable,prediction))\n",
    "print(\"Root Mean Squared Error:\",np.sqrt(mean_squared_error(test_target_variable,prediction)))\n",
    "print(\"MAPE:\",mean_absolute_percentage_error(test_target_variable,prediction))\n",
    "print(\"Accuracy:\",(100 - mean_absolute_percentage_error(test_target_variable,prediction)))"
   ]
  },
  {
   "cell_type": "code",
   "execution_count": 437,
   "metadata": {},
   "outputs": [
    {
     "name": "stdout",
     "output_type": "stream",
     "text": [
      "R2 Score: 0.9644129258144957\n",
      "Mean Absolute Error: 0.029953503572398277\n",
      "Mean Squared Error: 0.0017196964707410338\n",
      "Root Mean Squared Error: 0.041469223175037095\n",
      "MAPE: cnt    inf\n",
      "dtype: float64\n",
      "Accuracy: cnt   -inf\n",
      "dtype: float64\n"
     ]
    }
   ],
   "source": [
    "#calculate RMSE on training data\n",
    "pred = pd.DataFrame(Forest.predict(train_feature_variables))\n",
    "pred = pred.set_index(train_target_variable.index).rename(columns = {0:'cnt'})\n",
    "print(\"R2 Score:\",r2_score(train_target_variable,pred))\n",
    "print(\"Mean Absolute Error:\",mean_absolute_error(train_target_variable,pred))\n",
    "print(\"Mean Squared Error:\",mean_squared_error(train_target_variable,pred))\n",
    "print(\"Root Mean Squared Error:\",np.sqrt(mean_squared_error(train_target_variable,pred)))\n",
    "print(\"MAPE:\",mean_absolute_percentage_error(train_target_variable,pred))\n",
    "print(\"Accuracy:\",(100 - mean_absolute_percentage_error(train_target_variable,pred)))"
   ]
  },
  {
   "cell_type": "markdown",
   "metadata": {},
   "source": [
    "## Gradient Boosting"
   ]
  },
  {
   "cell_type": "code",
   "execution_count": 441,
   "metadata": {},
   "outputs": [],
   "source": [
    "GB = GradientBoostingRegressor().fit(train_feature_variables, train_target_variable.values.ravel())\n",
    "# predict on train data\n",
    "prediction = GB.predict(test_feature_variables)\n",
    "prediction = pd.DataFrame(prediction)\n",
    "prediction = prediction.set_index(test_target_variable.index).rename(columns = {0:'cnt'})"
   ]
  },
  {
   "cell_type": "code",
   "execution_count": 442,
   "metadata": {},
   "outputs": [
    {
     "name": "stdout",
     "output_type": "stream",
     "text": [
      "R2 Score: 0.9097211561096751\n",
      "Mean Absolute Error: 0.05159056187627023\n",
      "Mean Squared Error: 0.004924835208958808\n",
      "Root Mean Squared Error: 0.07017717014071463\n",
      "MAPE: cnt    14.720545\n",
      "dtype: float64\n",
      "Accuracy: cnt    85.279455\n",
      "dtype: float64\n"
     ]
    }
   ],
   "source": [
    "#calculate RMSE on test data\n",
    "print(\"R2 Score:\",r2_score(test_target_variable,prediction))\n",
    "print(\"Mean Absolute Error:\",mean_absolute_error(test_target_variable,prediction))\n",
    "print(\"Mean Squared Error:\",mean_squared_error(test_target_variable,prediction))\n",
    "print(\"Root Mean Squared Error:\",np.sqrt(mean_squared_error(test_target_variable,prediction)))\n",
    "print(\"MAPE:\",mean_absolute_percentage_error(test_target_variable,prediction))\n",
    "print(\"Accuracy:\",(100 - mean_absolute_percentage_error(test_target_variable,prediction)))"
   ]
  },
  {
   "cell_type": "code",
   "execution_count": 443,
   "metadata": {},
   "outputs": [
    {
     "name": "stdout",
     "output_type": "stream",
     "text": [
      "R2 Score: 0.9644129258144957\n",
      "Mean Absolute Error: 0.029953503572398277\n",
      "Mean Squared Error: 0.0017196964707410338\n",
      "Root Mean Squared Error: 0.041469223175037095\n",
      "MAPE: cnt    inf\n",
      "dtype: float64\n",
      "Accuracy: cnt   -inf\n",
      "dtype: float64\n"
     ]
    }
   ],
   "source": [
    "#calculate RMSE on training data\n",
    "pred = pd.DataFrame(Forest.predict(train_feature_variables))\n",
    "pred = pred.set_index(train_target_variable.index).rename(columns = {0:'cnt'})\n",
    "print(\"R2 Score:\",r2_score(train_target_variable,pred))\n",
    "print(\"Mean Absolute Error:\",mean_absolute_error(train_target_variable,pred))\n",
    "print(\"Mean Squared Error:\",mean_squared_error(train_target_variable,pred))\n",
    "print(\"Root Mean Squared Error:\",np.sqrt(mean_squared_error(train_target_variable,pred)))\n",
    "print(\"MAPE:\",mean_absolute_percentage_error(train_target_variable,pred))\n",
    "print(\"Accuracy:\",(100 - mean_absolute_percentage_error(train_target_variable,pred)))"
   ]
  },
  {
   "cell_type": "markdown",
   "metadata": {},
   "source": [
    "\n",
    "### From above models, it is clear that Gradient Boosting Model is providing best results having R-squared = 0.90 and Accuracy = 85.27%"
   ]
  }
 ],
 "metadata": {
  "kernelspec": {
   "display_name": "Python 3",
   "language": "python",
   "name": "python3"
  },
  "language_info": {
   "codemirror_mode": {
    "name": "ipython",
    "version": 3
   },
   "file_extension": ".py",
   "mimetype": "text/x-python",
   "name": "python",
   "nbconvert_exporter": "python",
   "pygments_lexer": "ipython3",
   "version": "3.7.3"
  }
 },
 "nbformat": 4,
 "nbformat_minor": 2
}
